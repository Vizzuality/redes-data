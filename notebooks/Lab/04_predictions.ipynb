{
 "cells": [
  {
   "cell_type": "markdown",
   "id": "525b860d-527b-4b67-8e00-05279df2f5b6",
   "metadata": {
    "tags": []
   },
   "source": [
    "# **Super-resolution model predictions**\n",
    "## Purpose\n",
    "The purpose of this notebook is to select and image and performe predictions.\n",
    "\n",
    "## Setup\n",
    "### Library import"
   ]
  },
  {
   "cell_type": "markdown",
   "id": "085197e8-ca58-4aa7-96ab-261fd670bd36",
   "metadata": {},
   "source": [
    "**Solve \"No Algorithm Worked\" [Error](https://stackoverflow.com/questions/59340465/how-to-solve-no-algorithm-worked-keras-error)**"
   ]
  },
  {
   "cell_type": "code",
   "execution_count": 1,
   "id": "41c675e1-6aba-488c-8faf-7758ce81c6b1",
   "metadata": {},
   "outputs": [],
   "source": [
    "#from tensorflow.compat.v1 import ConfigProto\n",
    "#from tensorflow.compat.v1 import InteractiveSession\n",
    "\n",
    "#config = ConfigProto()\n",
    "#config.gpu_options.allow_growth = True\n",
    "#session = InteractiveSession(config=config)"
   ]
  },
  {
   "cell_type": "code",
   "execution_count": 1,
   "id": "3c681aac-703a-4121-ace9-b92006b98419",
   "metadata": {},
   "outputs": [
    {
     "data": {
      "text/plain": [
       "[PhysicalDevice(name='/physical_device:GPU:0', device_type='GPU')]"
      ]
     },
     "execution_count": 1,
     "metadata": {},
     "output_type": "execute_result"
    }
   ],
   "source": [
    "import tensorflow as tf\n",
    "tf.config.list_physical_devices('GPU')"
   ]
  },
  {
   "cell_type": "markdown",
   "id": "bde860ff-7d78-4a61-894a-b8f553b248cd",
   "metadata": {},
   "source": [
    "**Setup software libraries**"
   ]
  },
  {
   "cell_type": "code",
   "execution_count": 2,
   "id": "64943d7d-2186-438e-b909-0356595acca4",
   "metadata": {},
   "outputs": [],
   "source": [
    "from vizzDL import predict"
   ]
  },
  {
   "cell_type": "markdown",
   "id": "3b0b8281-1030-4d76-88ea-e810cabb2f3e",
   "metadata": {},
   "source": [
    "## **Prediction**\n",
    "**Create `Predictor` object**"
   ]
  },
  {
   "cell_type": "code",
   "execution_count": 3,
   "id": "ccc82afc-4bb5-42ac-8210-55e263c89d84",
   "metadata": {
    "tags": []
   },
   "outputs": [],
   "source": [
    "Predictor = predict.Predictor(folder_path = '../../datasets/processed/Models/', dataset_name = 'L8_S2_SR', model_name='enhance_L8_to_S2')"
   ]
  },
  {
   "cell_type": "markdown",
   "id": "5db67f54-d155-49ae-83be-ab1c39e35f9d",
   "metadata": {},
   "source": [
    "**Select region**"
   ]
  },
  {
   "cell_type": "code",
   "execution_count": 4,
   "id": "58d0e6ba-80fd-402d-980a-370538444dea",
   "metadata": {
    "tags": []
   },
   "outputs": [
    {
     "name": "stdout",
     "output_type": "stream",
     "text": [
      "Draw a rectangle on map to select and area.\n"
     ]
    },
    {
     "data": {
      "application/vnd.jupyter.widget-view+json": {
       "model_id": "139a4225b098465d8c48014d172f1e61",
       "version_major": 2,
       "version_minor": 0
      },
      "text/plain": [
       "Map(center=[37.16, -3.58], controls=(ZoomControl(options=['position', 'zoom_in_text', 'zoom_in_title', 'zoom_o…"
      ]
     },
     "metadata": {},
     "output_type": "display_data"
    }
   ],
   "source": [
    "Predictor.select_region(lat=37.16, lon=-3.58, zoom=12)"
   ]
  },
  {
   "cell_type": "markdown",
   "id": "bd5582d8-252c-4f65-b269-145e4a5af9d7",
   "metadata": {},
   "source": [
    "**Create input image**"
   ]
  },
  {
   "cell_type": "code",
   "execution_count": 5,
   "id": "ea23cb3d-ec1b-40ad-bdd9-0e8edb3f1e28",
   "metadata": {},
   "outputs": [
    {
     "data": {
      "application/vnd.jupyter.widget-view+json": {
       "model_id": "217ee775d2804104b79d06f39510a570",
       "version_major": 2,
       "version_minor": 0
      },
      "text/plain": [
       "Url()"
      ]
     },
     "metadata": {},
     "output_type": "display_data"
    }
   ],
   "source": [
    "Predictor.create_input_image()"
   ]
  },
  {
   "cell_type": "markdown",
   "id": "4ac95cd8-8ac9-43b0-8968-530b86b1a062",
   "metadata": {},
   "source": [
    "**Predict**"
   ]
  },
  {
   "cell_type": "code",
   "execution_count": 6,
   "id": "a0fc0c47-13c8-4003-b672-ece420b34f27",
   "metadata": {},
   "outputs": [
    {
     "data": {
      "application/vnd.jupyter.widget-view+json": {
       "model_id": "a9ef66b21f194385b4265c3af698d194",
       "version_major": 2,
       "version_minor": 0
      },
      "text/plain": [
       "Url()"
      ]
     },
     "metadata": {},
     "output_type": "display_data"
    }
   ],
   "source": [
    "Predictor.predict()"
   ]
  },
  {
   "cell_type": "code",
   "execution_count": null,
   "id": "ba53c079-2e9f-415c-a069-00d96c8e4519",
   "metadata": {},
   "outputs": [],
   "source": []
  }
 ],
 "metadata": {
  "kernelspec": {
   "display_name": "Python 3",
   "language": "python",
   "name": "python3"
  },
  "language_info": {
   "codemirror_mode": {
    "name": "ipython",
    "version": 3
   },
   "file_extension": ".py",
   "mimetype": "text/x-python",
   "name": "python",
   "nbconvert_exporter": "python",
   "pygments_lexer": "ipython3",
   "version": "3.6.9"
  }
 },
 "nbformat": 4,
 "nbformat_minor": 5
}
