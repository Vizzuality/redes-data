{
 "cells": [
  {
   "cell_type": "markdown",
   "metadata": {},
   "source": [
    "<img width=\"600\" height=\"200\" src=\"../../datasets/redes.png\">"
   ]
  },
  {
   "cell_type": "markdown",
   "metadata": {},
   "source": [
    "# Animations with Earth Engine\n",
    "## Purpose\n",
    "The purpose of this notebook is to create animations from Earth Engine datasets.\n",
    "\n",
    "## Setup\n",
    "### Library import"
   ]
  },
  {
   "cell_type": "code",
   "execution_count": 1,
   "metadata": {},
   "outputs": [],
   "source": [
    "import os\n",
    "from ipywidgets import interact\n",
    "import matplotlib.pyplot as plt\n",
    "\n",
    "from vizzDL import animations\n",
    "from vizzDL.models.CNN.super_resolution import srgan"
   ]
  },
  {
   "cell_type": "markdown",
   "metadata": {},
   "source": [
    "## **Create animation**\n",
    "**Create `animations` object**"
   ]
  },
  {
   "cell_type": "code",
   "execution_count": 3,
   "metadata": {},
   "outputs": [],
   "source": [
    "animation = animations.Animation()"
   ]
  },
  {
   "cell_type": "markdown",
   "metadata": {
    "tags": []
   },
   "source": [
    "**Select region**"
   ]
  },
  {
   "cell_type": "code",
   "execution_count": 6,
   "metadata": {},
   "outputs": [],
   "source": [
    "geometry = {'type': 'FeatureCollection',\n",
    " 'features': [{'type': 'Feature',\n",
    "   'properties': {},\n",
    "   'geometry': {'type': 'Polygon',\n",
    "    'coordinates': [[[-122.206748, 46.034209],\n",
    "      [-122.206748, 46.206846],\n",
    "      [-122.010182, 46.206846],\n",
    "      [-122.010182, 46.034209],\n",
    "      [-122.206748, 46.034209]]]}}]}\n",
    "\n",
    "animation.select_region(instrument='Landsat', geometry=geometry, lat=46.116, lon=-122.1149, zoom=11)      "
   ]
  },
  {
   "cell_type": "code",
   "execution_count": 4,
   "metadata": {},
   "outputs": [
    {
     "data": {
      "application/vnd.jupyter.widget-view+json": {
       "model_id": "0e3c934f196b461f845fd169ecf15c3a",
       "version_major": 2,
       "version_minor": 0
      },
      "text/plain": [
       "Map(center=[-13.95, 48.95], controls=(ZoomControl(options=['position', 'zoom_in_text', 'zoom_in_title', 'zoom_…"
      ]
     },
     "metadata": {},
     "output_type": "display_data"
    }
   ],
   "source": [
    "geometry =  {'type': 'FeatureCollection',\n",
    " 'features': [{'type': 'Feature',\n",
    "   'properties': {},\n",
    "   'geometry': {'type': 'Polygon',\n",
    "    'coordinates': [[[48.831181, -13.983606],\n",
    "      [48.831181, -13.856368],\n",
    "      [48.97221, -13.856368],\n",
    "      [48.97221, -13.983606],\n",
    "      [48.831181, -13.983606]]]}}]}\n",
    "\n",
    "animation.select_region(instrument='Landsat', geometry=geometry, lat=-13.95, lon=48.95, zoom=10)"
   ]
  },
  {
   "cell_type": "markdown",
   "metadata": {},
   "source": [
    "### Time-lapse"
   ]
  },
  {
   "cell_type": "markdown",
   "metadata": {},
   "source": [
    "**Save images as `PNG`s**"
   ]
  },
  {
   "cell_type": "code",
   "execution_count": 8,
   "metadata": {},
   "outputs": [
    {
     "name": "stdout",
     "output_type": "stream",
     "text": [
      "Image number: 0\n",
      "Image number: 1\n",
      "Image number: 2\n",
      "Image number: 3\n",
      "Image number: 4\n"
     ]
    }
   ],
   "source": [
    "#animation.save_frames_as_PGNs(folder_path = '../../datasets/processed/GeoTIFFs/', region_name = 'Saint_Helens', start_year=1995, stop_year=2019)\n",
    "animation.save_frames_as_PGNs(folder_path = '../../datasets/processed/GeoTIFFs/', region_name = 'Tsaratanana', start_year=2016, stop_year=2021)"
   ]
  },
  {
   "cell_type": "markdown",
   "metadata": {},
   "source": [
    "**Create animation as a Numpy array**"
   ]
  },
  {
   "cell_type": "code",
   "execution_count": 5,
   "metadata": {},
   "outputs": [
    {
     "name": "stdout",
     "output_type": "stream",
     "text": [
      "Image number: 0\n",
      "Image number: 1\n",
      "Image number: 2\n",
      "Image number: 3\n",
      "Image number: 4\n",
      "Image number: 5\n",
      "Image number: 6\n",
      "Image number: 7\n",
      "Image number: 8\n",
      "Image number: 9\n",
      "Image number: 10\n",
      "Image number: 11\n",
      "Image number: 12\n",
      "Image number: 13\n",
      "Image number: 14\n",
      "Image number: 15\n",
      "Image number: 16\n",
      "Image number: 17\n",
      "Image number: 18\n",
      "Image number: 19\n",
      "Image number: 20\n"
     ]
    }
   ],
   "source": [
    "#video = animation.video_as_array(start_year=1995, stop_year=2019)\n",
    "video = animation.video_as_array(start_year=2001, stop_year=2021)"
   ]
  },
  {
   "cell_type": "code",
   "execution_count": 6,
   "metadata": {},
   "outputs": [
    {
     "data": {
      "application/vnd.jupyter.widget-view+json": {
       "model_id": "883270a43cae4939aa55f4b1ea3d5d8f",
       "version_major": 2,
       "version_minor": 0
      },
      "text/plain": [
       "interactive(children=(IntSlider(value=0, description='frame', max=20), Output()), _dom_classes=('widget-intera…"
      ]
     },
     "metadata": {},
     "output_type": "display_data"
    }
   ],
   "source": [
    "@interact(frame=(0, video.shape[0]-1))\n",
    "def show_frame(frame=0):\n",
    "    fig, ax = plt.subplots(figsize=(10,10))\n",
    "\n",
    "    plt.imshow(video[frame,:,:,:])"
   ]
  },
  {
   "cell_type": "markdown",
   "metadata": {
    "tags": []
   },
   "source": [
    "### Prediction\n",
    "**Create model**"
   ]
  },
  {
   "cell_type": "code",
   "execution_count": 37,
   "metadata": {
    "tags": []
   },
   "outputs": [],
   "source": [
    "# Location of model weights\n",
    "weights_dir = '../../datasets/processed/Models/L8_S2_SR_x3/srgan_generator_L8_to_S2_x3'\n",
    "weights_file = lambda filename: os.path.join(weights_dir, filename)\n",
    "\n",
    "pre_generator = srgan.Generator(input_shape=(None, None, 3), scale=3).generator()\n",
    "pre_generator.load_weights(weights_file('model_weights.h5'))"
   ]
  },
  {
   "cell_type": "markdown",
   "metadata": {},
   "source": [
    "**predict**"
   ]
  },
  {
   "cell_type": "code",
   "execution_count": 38,
   "metadata": {
    "tags": []
   },
   "outputs": [
    {
     "name": "stdout",
     "output_type": "stream",
     "text": [
      "1/1 [==============================] - 7s 7s/step\n",
      "1/1 [==============================] - 0s 292ms/step\n",
      "1/1 [==============================] - 0s 290ms/step\n",
      "1/1 [==============================] - 0s 292ms/step\n",
      "1/1 [==============================] - 0s 290ms/step\n",
      "1/1 [==============================] - 0s 291ms/step\n",
      "1/1 [==============================] - 0s 292ms/step\n",
      "1/1 [==============================] - 0s 292ms/step\n",
      "1/1 [==============================] - 0s 290ms/step\n",
      "1/1 [==============================] - 0s 293ms/step\n",
      "1/1 [==============================] - 0s 290ms/step\n",
      "1/1 [==============================] - 0s 291ms/step\n",
      "1/1 [==============================] - 0s 291ms/step\n",
      "1/1 [==============================] - 0s 290ms/step\n",
      "1/1 [==============================] - 0s 294ms/step\n",
      "1/1 [==============================] - 0s 290ms/step\n",
      "1/1 [==============================] - 0s 294ms/step\n",
      "1/1 [==============================] - 0s 289ms/step\n",
      "1/1 [==============================] - 0s 291ms/step\n",
      "1/1 [==============================] - 0s 290ms/step\n",
      "1/1 [==============================] - 0s 304ms/step\n"
     ]
    }
   ],
   "source": [
    "prediction = animation.predict(model = pre_generator, norm_range=[[0,1], [-1,1]])"
   ]
  },
  {
   "cell_type": "code",
   "execution_count": 39,
   "metadata": {},
   "outputs": [
    {
     "data": {
      "application/vnd.jupyter.widget-view+json": {
       "model_id": "e7cc2786464c4a2db6b42887e349de9d",
       "version_major": 2,
       "version_minor": 0
      },
      "text/plain": [
       "interactive(children=(IntSlider(value=0, description='frame', max=20), Output()), _dom_classes=('widget-intera…"
      ]
     },
     "metadata": {},
     "output_type": "display_data"
    }
   ],
   "source": [
    "@interact(frame=(0, video.shape[0]-1))\n",
    "def show_frame(frame=0):\n",
    "    fig, ax = plt.subplots(1, 2, figsize=(20,20))\n",
    "\n",
    "    ax[0].imshow(video[frame,:,:,:])\n",
    "    ax[0].set_title('LR')\n",
    "\n",
    "    ax[1].imshow(prediction[frame,:,:,:])\n",
    "    ax[1].set_title('SR (PRE)')"
   ]
  },
  {
   "cell_type": "markdown",
   "metadata": {},
   "source": [
    "### Create tiles\n",
    "**Create tiles**"
   ]
  },
  {
   "cell_type": "code",
   "execution_count": 45,
   "metadata": {},
   "outputs": [
    {
     "name": "stdout",
     "output_type": "stream",
     "text": [
      "Sentinel\n",
      "Create tiles per frame:\n",
      "  year #2016\n",
      "Generating Base Tiles:\n",
      "0...10...20...30...40...50...60...70...80...90...100\n",
      "Generating Overview Tiles:\n",
      "0...10...20...30...40...50...60...70...80...90...100\n",
      "  year #2017\n",
      "Generating Base Tiles:\n",
      "0...10...20...30...40...50...60...70...80...90...100\n",
      "Generating Overview Tiles:\n",
      "0...10...20...30...40...50...60...70...80...90...100\n",
      "  year #2018\n",
      "Generating Base Tiles:\n",
      "0...10...20...30...40...50...60...70...80...90...100\n",
      "Generating Overview Tiles:\n",
      "0...10...20...30...40...50...60...70...80...90...100\n",
      "  year #2019\n",
      "Generating Base Tiles:\n",
      "0...10...20...30...40...50...60...70...80...90...100\n",
      "Generating Overview Tiles:\n",
      "0...10...20...30...40...50...60...70...80...90...100\n",
      "  year #2020\n",
      "Generating Base Tiles:\n",
      "0...10...20...30...40...50...60...70...80...90...100\n",
      "Generating Overview Tiles:\n",
      "0...10...20...30...40...50...60...70...80...90...100\n",
      "  year #2021\n",
      "Generating Base Tiles:\n",
      "0...10...20...30...40...50...60...70...80...90...100\n",
      "Generating Overview Tiles:\n",
      "0...10...20...30...40...50...60...70...80...90...100\n",
      "Creating APNGs\n",
      "Uploading APNG files to GCS\n",
      "File ../../datasets/processed/Tiles/Tsaratanana/APNGs/Sentinel/14/10420/8828.png uploaded to Redes/Tiles/Tsaratanana/APNGs/Sentinel/14/10420/8828.png.\n",
      "File ../../datasets/processed/Tiles/Tsaratanana/APNGs/Sentinel/14/10420/8830.png uploaded to Redes/Tiles/Tsaratanana/APNGs/Sentinel/14/10420/8830.png.\n",
      "File ../../datasets/processed/Tiles/Tsaratanana/APNGs/Sentinel/14/10420/8831.png uploaded to Redes/Tiles/Tsaratanana/APNGs/Sentinel/14/10420/8831.png.\n",
      "File ../../datasets/processed/Tiles/Tsaratanana/APNGs/Sentinel/14/10420/8833.png uploaded to Redes/Tiles/Tsaratanana/APNGs/Sentinel/14/10420/8833.png.\n",
      "File ../../datasets/processed/Tiles/Tsaratanana/APNGs/Sentinel/14/10420/8834.png uploaded to Redes/Tiles/Tsaratanana/APNGs/Sentinel/14/10420/8834.png.\n",
      "File ../../datasets/processed/Tiles/Tsaratanana/APNGs/Sentinel/14/10420/8829.png uploaded to Redes/Tiles/Tsaratanana/APNGs/Sentinel/14/10420/8829.png.\n",
      "File ../../datasets/processed/Tiles/Tsaratanana/APNGs/Sentinel/14/10420/8832.png uploaded to Redes/Tiles/Tsaratanana/APNGs/Sentinel/14/10420/8832.png.\n",
      "File ../../datasets/processed/Tiles/Tsaratanana/APNGs/Sentinel/14/10418/8828.png uploaded to Redes/Tiles/Tsaratanana/APNGs/Sentinel/14/10418/8828.png.\n",
      "File ../../datasets/processed/Tiles/Tsaratanana/APNGs/Sentinel/14/10418/8830.png uploaded to Redes/Tiles/Tsaratanana/APNGs/Sentinel/14/10418/8830.png.\n",
      "File ../../datasets/processed/Tiles/Tsaratanana/APNGs/Sentinel/14/10418/8831.png uploaded to Redes/Tiles/Tsaratanana/APNGs/Sentinel/14/10418/8831.png.\n",
      "File ../../datasets/processed/Tiles/Tsaratanana/APNGs/Sentinel/14/10418/8833.png uploaded to Redes/Tiles/Tsaratanana/APNGs/Sentinel/14/10418/8833.png.\n",
      "File ../../datasets/processed/Tiles/Tsaratanana/APNGs/Sentinel/14/10418/8834.png uploaded to Redes/Tiles/Tsaratanana/APNGs/Sentinel/14/10418/8834.png.\n",
      "File ../../datasets/processed/Tiles/Tsaratanana/APNGs/Sentinel/14/10418/8829.png uploaded to Redes/Tiles/Tsaratanana/APNGs/Sentinel/14/10418/8829.png.\n",
      "File ../../datasets/processed/Tiles/Tsaratanana/APNGs/Sentinel/14/10418/8832.png uploaded to Redes/Tiles/Tsaratanana/APNGs/Sentinel/14/10418/8832.png.\n",
      "File ../../datasets/processed/Tiles/Tsaratanana/APNGs/Sentinel/14/10419/8828.png uploaded to Redes/Tiles/Tsaratanana/APNGs/Sentinel/14/10419/8828.png.\n",
      "File ../../datasets/processed/Tiles/Tsaratanana/APNGs/Sentinel/14/10419/8830.png uploaded to Redes/Tiles/Tsaratanana/APNGs/Sentinel/14/10419/8830.png.\n",
      "File ../../datasets/processed/Tiles/Tsaratanana/APNGs/Sentinel/14/10419/8831.png uploaded to Redes/Tiles/Tsaratanana/APNGs/Sentinel/14/10419/8831.png.\n",
      "File ../../datasets/processed/Tiles/Tsaratanana/APNGs/Sentinel/14/10419/8833.png uploaded to Redes/Tiles/Tsaratanana/APNGs/Sentinel/14/10419/8833.png.\n",
      "File ../../datasets/processed/Tiles/Tsaratanana/APNGs/Sentinel/14/10419/8834.png uploaded to Redes/Tiles/Tsaratanana/APNGs/Sentinel/14/10419/8834.png.\n",
      "File ../../datasets/processed/Tiles/Tsaratanana/APNGs/Sentinel/14/10419/8829.png uploaded to Redes/Tiles/Tsaratanana/APNGs/Sentinel/14/10419/8829.png.\n",
      "File ../../datasets/processed/Tiles/Tsaratanana/APNGs/Sentinel/14/10419/8832.png uploaded to Redes/Tiles/Tsaratanana/APNGs/Sentinel/14/10419/8832.png.\n",
      "File ../../datasets/processed/Tiles/Tsaratanana/APNGs/Sentinel/14/10416/8828.png uploaded to Redes/Tiles/Tsaratanana/APNGs/Sentinel/14/10416/8828.png.\n",
      "File ../../datasets/processed/Tiles/Tsaratanana/APNGs/Sentinel/14/10416/8830.png uploaded to Redes/Tiles/Tsaratanana/APNGs/Sentinel/14/10416/8830.png.\n",
      "File ../../datasets/processed/Tiles/Tsaratanana/APNGs/Sentinel/14/10416/8831.png uploaded to Redes/Tiles/Tsaratanana/APNGs/Sentinel/14/10416/8831.png.\n",
      "File ../../datasets/processed/Tiles/Tsaratanana/APNGs/Sentinel/14/10416/8833.png uploaded to Redes/Tiles/Tsaratanana/APNGs/Sentinel/14/10416/8833.png.\n",
      "File ../../datasets/processed/Tiles/Tsaratanana/APNGs/Sentinel/14/10416/8834.png uploaded to Redes/Tiles/Tsaratanana/APNGs/Sentinel/14/10416/8834.png.\n",
      "File ../../datasets/processed/Tiles/Tsaratanana/APNGs/Sentinel/14/10416/8829.png uploaded to Redes/Tiles/Tsaratanana/APNGs/Sentinel/14/10416/8829.png.\n",
      "File ../../datasets/processed/Tiles/Tsaratanana/APNGs/Sentinel/14/10416/8832.png uploaded to Redes/Tiles/Tsaratanana/APNGs/Sentinel/14/10416/8832.png.\n",
      "File ../../datasets/processed/Tiles/Tsaratanana/APNGs/Sentinel/14/10414/8828.png uploaded to Redes/Tiles/Tsaratanana/APNGs/Sentinel/14/10414/8828.png.\n",
      "File ../../datasets/processed/Tiles/Tsaratanana/APNGs/Sentinel/14/10414/8830.png uploaded to Redes/Tiles/Tsaratanana/APNGs/Sentinel/14/10414/8830.png.\n",
      "File ../../datasets/processed/Tiles/Tsaratanana/APNGs/Sentinel/14/10414/8831.png uploaded to Redes/Tiles/Tsaratanana/APNGs/Sentinel/14/10414/8831.png.\n",
      "File ../../datasets/processed/Tiles/Tsaratanana/APNGs/Sentinel/14/10414/8833.png uploaded to Redes/Tiles/Tsaratanana/APNGs/Sentinel/14/10414/8833.png.\n",
      "File ../../datasets/processed/Tiles/Tsaratanana/APNGs/Sentinel/14/10414/8834.png uploaded to Redes/Tiles/Tsaratanana/APNGs/Sentinel/14/10414/8834.png.\n",
      "File ../../datasets/processed/Tiles/Tsaratanana/APNGs/Sentinel/14/10414/8829.png uploaded to Redes/Tiles/Tsaratanana/APNGs/Sentinel/14/10414/8829.png.\n",
      "File ../../datasets/processed/Tiles/Tsaratanana/APNGs/Sentinel/14/10414/8832.png uploaded to Redes/Tiles/Tsaratanana/APNGs/Sentinel/14/10414/8832.png.\n",
      "File ../../datasets/processed/Tiles/Tsaratanana/APNGs/Sentinel/14/10417/8828.png uploaded to Redes/Tiles/Tsaratanana/APNGs/Sentinel/14/10417/8828.png.\n",
      "File ../../datasets/processed/Tiles/Tsaratanana/APNGs/Sentinel/14/10417/8830.png uploaded to Redes/Tiles/Tsaratanana/APNGs/Sentinel/14/10417/8830.png.\n",
      "File ../../datasets/processed/Tiles/Tsaratanana/APNGs/Sentinel/14/10417/8831.png uploaded to Redes/Tiles/Tsaratanana/APNGs/Sentinel/14/10417/8831.png.\n",
      "File ../../datasets/processed/Tiles/Tsaratanana/APNGs/Sentinel/14/10417/8833.png uploaded to Redes/Tiles/Tsaratanana/APNGs/Sentinel/14/10417/8833.png.\n",
      "File ../../datasets/processed/Tiles/Tsaratanana/APNGs/Sentinel/14/10417/8834.png uploaded to Redes/Tiles/Tsaratanana/APNGs/Sentinel/14/10417/8834.png.\n",
      "File ../../datasets/processed/Tiles/Tsaratanana/APNGs/Sentinel/14/10417/8829.png uploaded to Redes/Tiles/Tsaratanana/APNGs/Sentinel/14/10417/8829.png.\n",
      "File ../../datasets/processed/Tiles/Tsaratanana/APNGs/Sentinel/14/10417/8832.png uploaded to Redes/Tiles/Tsaratanana/APNGs/Sentinel/14/10417/8832.png.\n",
      "File ../../datasets/processed/Tiles/Tsaratanana/APNGs/Sentinel/14/10415/8828.png uploaded to Redes/Tiles/Tsaratanana/APNGs/Sentinel/14/10415/8828.png.\n",
      "File ../../datasets/processed/Tiles/Tsaratanana/APNGs/Sentinel/14/10415/8830.png uploaded to Redes/Tiles/Tsaratanana/APNGs/Sentinel/14/10415/8830.png.\n",
      "File ../../datasets/processed/Tiles/Tsaratanana/APNGs/Sentinel/14/10415/8831.png uploaded to Redes/Tiles/Tsaratanana/APNGs/Sentinel/14/10415/8831.png.\n",
      "File ../../datasets/processed/Tiles/Tsaratanana/APNGs/Sentinel/14/10415/8833.png uploaded to Redes/Tiles/Tsaratanana/APNGs/Sentinel/14/10415/8833.png.\n",
      "File ../../datasets/processed/Tiles/Tsaratanana/APNGs/Sentinel/14/10415/8834.png uploaded to Redes/Tiles/Tsaratanana/APNGs/Sentinel/14/10415/8834.png.\n",
      "File ../../datasets/processed/Tiles/Tsaratanana/APNGs/Sentinel/14/10415/8829.png uploaded to Redes/Tiles/Tsaratanana/APNGs/Sentinel/14/10415/8829.png.\n",
      "File ../../datasets/processed/Tiles/Tsaratanana/APNGs/Sentinel/14/10415/8832.png uploaded to Redes/Tiles/Tsaratanana/APNGs/Sentinel/14/10415/8832.png.\n",
      "File ../../datasets/processed/Tiles/Tsaratanana/APNGs/Sentinel/12/2605/2207.png uploaded to Redes/Tiles/Tsaratanana/APNGs/Sentinel/12/2605/2207.png.\n",
      "File ../../datasets/processed/Tiles/Tsaratanana/APNGs/Sentinel/12/2605/2208.png uploaded to Redes/Tiles/Tsaratanana/APNGs/Sentinel/12/2605/2208.png.\n",
      "File ../../datasets/processed/Tiles/Tsaratanana/APNGs/Sentinel/12/2603/2207.png uploaded to Redes/Tiles/Tsaratanana/APNGs/Sentinel/12/2603/2207.png.\n",
      "File ../../datasets/processed/Tiles/Tsaratanana/APNGs/Sentinel/12/2603/2208.png uploaded to Redes/Tiles/Tsaratanana/APNGs/Sentinel/12/2603/2208.png.\n",
      "File ../../datasets/processed/Tiles/Tsaratanana/APNGs/Sentinel/12/2604/2207.png uploaded to Redes/Tiles/Tsaratanana/APNGs/Sentinel/12/2604/2207.png.\n",
      "File ../../datasets/processed/Tiles/Tsaratanana/APNGs/Sentinel/12/2604/2208.png uploaded to Redes/Tiles/Tsaratanana/APNGs/Sentinel/12/2604/2208.png.\n",
      "File ../../datasets/processed/Tiles/Tsaratanana/APNGs/Sentinel/10/651/552.png uploaded to Redes/Tiles/Tsaratanana/APNGs/Sentinel/10/651/552.png.\n",
      "File ../../datasets/processed/Tiles/Tsaratanana/APNGs/Sentinel/10/651/551.png uploaded to Redes/Tiles/Tsaratanana/APNGs/Sentinel/10/651/551.png.\n",
      "File ../../datasets/processed/Tiles/Tsaratanana/APNGs/Sentinel/10/650/552.png uploaded to Redes/Tiles/Tsaratanana/APNGs/Sentinel/10/650/552.png.\n",
      "File ../../datasets/processed/Tiles/Tsaratanana/APNGs/Sentinel/10/650/551.png uploaded to Redes/Tiles/Tsaratanana/APNGs/Sentinel/10/650/551.png.\n",
      "File ../../datasets/processed/Tiles/Tsaratanana/APNGs/Sentinel/13/5208/4416.png uploaded to Redes/Tiles/Tsaratanana/APNGs/Sentinel/13/5208/4416.png.\n",
      "File ../../datasets/processed/Tiles/Tsaratanana/APNGs/Sentinel/13/5208/4415.png uploaded to Redes/Tiles/Tsaratanana/APNGs/Sentinel/13/5208/4415.png.\n",
      "File ../../datasets/processed/Tiles/Tsaratanana/APNGs/Sentinel/13/5208/4414.png uploaded to Redes/Tiles/Tsaratanana/APNGs/Sentinel/13/5208/4414.png.\n",
      "File ../../datasets/processed/Tiles/Tsaratanana/APNGs/Sentinel/13/5208/4417.png uploaded to Redes/Tiles/Tsaratanana/APNGs/Sentinel/13/5208/4417.png.\n",
      "File ../../datasets/processed/Tiles/Tsaratanana/APNGs/Sentinel/13/5210/4416.png uploaded to Redes/Tiles/Tsaratanana/APNGs/Sentinel/13/5210/4416.png.\n",
      "File ../../datasets/processed/Tiles/Tsaratanana/APNGs/Sentinel/13/5210/4415.png uploaded to Redes/Tiles/Tsaratanana/APNGs/Sentinel/13/5210/4415.png.\n",
      "File ../../datasets/processed/Tiles/Tsaratanana/APNGs/Sentinel/13/5210/4414.png uploaded to Redes/Tiles/Tsaratanana/APNGs/Sentinel/13/5210/4414.png.\n",
      "File ../../datasets/processed/Tiles/Tsaratanana/APNGs/Sentinel/13/5210/4417.png uploaded to Redes/Tiles/Tsaratanana/APNGs/Sentinel/13/5210/4417.png.\n",
      "File ../../datasets/processed/Tiles/Tsaratanana/APNGs/Sentinel/13/5209/4416.png uploaded to Redes/Tiles/Tsaratanana/APNGs/Sentinel/13/5209/4416.png.\n",
      "File ../../datasets/processed/Tiles/Tsaratanana/APNGs/Sentinel/13/5209/4415.png uploaded to Redes/Tiles/Tsaratanana/APNGs/Sentinel/13/5209/4415.png.\n",
      "File ../../datasets/processed/Tiles/Tsaratanana/APNGs/Sentinel/13/5209/4414.png uploaded to Redes/Tiles/Tsaratanana/APNGs/Sentinel/13/5209/4414.png.\n",
      "File ../../datasets/processed/Tiles/Tsaratanana/APNGs/Sentinel/13/5209/4417.png uploaded to Redes/Tiles/Tsaratanana/APNGs/Sentinel/13/5209/4417.png.\n",
      "File ../../datasets/processed/Tiles/Tsaratanana/APNGs/Sentinel/13/5207/4416.png uploaded to Redes/Tiles/Tsaratanana/APNGs/Sentinel/13/5207/4416.png.\n",
      "File ../../datasets/processed/Tiles/Tsaratanana/APNGs/Sentinel/13/5207/4415.png uploaded to Redes/Tiles/Tsaratanana/APNGs/Sentinel/13/5207/4415.png.\n",
      "File ../../datasets/processed/Tiles/Tsaratanana/APNGs/Sentinel/13/5207/4414.png uploaded to Redes/Tiles/Tsaratanana/APNGs/Sentinel/13/5207/4414.png.\n",
      "File ../../datasets/processed/Tiles/Tsaratanana/APNGs/Sentinel/13/5207/4417.png uploaded to Redes/Tiles/Tsaratanana/APNGs/Sentinel/13/5207/4417.png.\n",
      "File ../../datasets/processed/Tiles/Tsaratanana/APNGs/Sentinel/11/1301/1104.png uploaded to Redes/Tiles/Tsaratanana/APNGs/Sentinel/11/1301/1104.png.\n",
      "File ../../datasets/processed/Tiles/Tsaratanana/APNGs/Sentinel/11/1301/1103.png uploaded to Redes/Tiles/Tsaratanana/APNGs/Sentinel/11/1301/1103.png.\n",
      "File ../../datasets/processed/Tiles/Tsaratanana/APNGs/Sentinel/11/1302/1104.png uploaded to Redes/Tiles/Tsaratanana/APNGs/Sentinel/11/1302/1104.png.\n",
      "File ../../datasets/processed/Tiles/Tsaratanana/APNGs/Sentinel/11/1302/1103.png uploaded to Redes/Tiles/Tsaratanana/APNGs/Sentinel/11/1302/1103.png.\n",
      "Prediction\n",
      "Create tiles per frame:\n",
      "  year #2016\n",
      "Generating Base Tiles:\n",
      "0...10...20...30...40...50...60...70...80...90...100\n",
      "Generating Overview Tiles:\n",
      "0...10...20...30...40...50...60...70...80...90...100\n",
      "  year #2017\n",
      "Generating Base Tiles:\n",
      "0...10...20...30...40...50...60...70...80...90...100\n",
      "Generating Overview Tiles:\n",
      "0...10...20...30...40...50...60...70...80...90...100\n",
      "  year #2018\n",
      "Generating Base Tiles:\n",
      "0...10...20...30...40...50...60...70...80...90...100\n",
      "Generating Overview Tiles:\n",
      "0...10...20...30...40...50...60...70...80...90...100\n",
      "  year #2019\n",
      "Generating Base Tiles:\n",
      "0...10...20...30...40...50...60...70...80...90...100\n",
      "Generating Overview Tiles:\n",
      "0...10...20...30...40...50...60...70...80...90...100\n",
      "  year #2020\n",
      "Generating Base Tiles:\n",
      "0...10...20...30...40...50...60...70...80...90...100\n",
      "Generating Overview Tiles:\n",
      "0...10...20...30...40...50...60...70...80...90...100\n",
      "  year #2021\n",
      "Generating Base Tiles:\n",
      "0...10...20...30...40...50...60...70...80...90...100\n",
      "Generating Overview Tiles:\n",
      "0...10...20...30...40...50...60...70...80...90...100\n"
     ]
    },
    {
     "ename": "IndexError",
     "evalue": "index 6 is out of bounds for axis 0 with size 6",
     "output_type": "error",
     "traceback": [
      "\u001b[0;31m---------------------------------------------------------------------------\u001b[0m",
      "\u001b[0;31mIndexError\u001b[0m                                Traceback (most recent call last)",
      "Input \u001b[0;32mIn [45]\u001b[0m, in \u001b[0;36m<cell line: 1>\u001b[0;34m()\u001b[0m\n\u001b[0;32m----> 1\u001b[0m \u001b[43manimation\u001b[49m\u001b[38;5;241;43m.\u001b[39;49m\u001b[43mcreate_animated_tiles\u001b[49m\u001b[43m(\u001b[49m\u001b[43mfolder_path\u001b[49m\u001b[43m \u001b[49m\u001b[38;5;241;43m=\u001b[39;49m\u001b[43m \u001b[49m\u001b[38;5;124;43m'\u001b[39;49m\u001b[38;5;124;43m../../datasets/processed/Tiles/\u001b[39;49m\u001b[38;5;124;43m'\u001b[39;49m\u001b[43m,\u001b[49m\u001b[43m \u001b[49m\u001b[43mregion_name\u001b[49m\u001b[43m \u001b[49m\u001b[38;5;241;43m=\u001b[39;49m\u001b[43m \u001b[49m\u001b[38;5;124;43m'\u001b[39;49m\u001b[38;5;124;43mTsaratanana\u001b[39;49m\u001b[38;5;124;43m'\u001b[39;49m\u001b[43m,\u001b[49m\u001b[43m \u001b[49m\u001b[43mminZ\u001b[49m\u001b[43m \u001b[49m\u001b[38;5;241;43m=\u001b[39;49m\u001b[43m \u001b[49m\u001b[38;5;241;43m10\u001b[39;49m\u001b[43m,\u001b[49m\u001b[43m \u001b[49m\u001b[43mmaxZ\u001b[49m\u001b[38;5;241;43m=\u001b[39;49m\u001b[38;5;241;43m14\u001b[39;49m\u001b[43m,\u001b[49m\u001b[43m \u001b[49m\u001b[43msave_GeoTIFF\u001b[49m\u001b[38;5;241;43m=\u001b[39;49m\u001b[38;5;28;43;01mTrue\u001b[39;49;00m\u001b[43m)\u001b[49m\n",
      "File \u001b[0;32m/tf/notebooks/Lab/vizzDL/animations.py:355\u001b[0m, in \u001b[0;36mAnimation.create_animated_tiles\u001b[0;34m(self, folder_path, region_name, minZ, maxZ, save_GeoTIFF)\u001b[0m\n\u001b[1;32m    353\u001b[0m years \u001b[38;5;241m=\u001b[39m np\u001b[38;5;241m.\u001b[39marange(\u001b[38;5;28mself\u001b[39m\u001b[38;5;241m.\u001b[39mstart_year, \u001b[38;5;28mself\u001b[39m\u001b[38;5;241m.\u001b[39mstop_year\u001b[38;5;241m+\u001b[39m\u001b[38;5;241m1\u001b[39m)\n\u001b[1;32m    354\u001b[0m \u001b[38;5;28;01mfor\u001b[39;00m n \u001b[38;5;129;01min\u001b[39;00m \u001b[38;5;28mrange\u001b[39m(animation\u001b[38;5;241m.\u001b[39mshape[\u001b[38;5;241m0\u001b[39m]):\n\u001b[0;32m--> 355\u001b[0m     \u001b[38;5;28mprint\u001b[39m(\u001b[38;5;124mf\u001b[39m\u001b[38;5;124m'\u001b[39m\u001b[38;5;124m  year #\u001b[39m\u001b[38;5;132;01m{\u001b[39;00m\u001b[38;5;28mstr\u001b[39m(years[n])\u001b[38;5;132;01m}\u001b[39;00m\u001b[38;5;124m'\u001b[39m)\n\u001b[1;32m    356\u001b[0m     xda \u001b[38;5;241m=\u001b[39m from_np_to_xr(animation[n,:,:,:\u001b[38;5;241m3\u001b[39m], \u001b[38;5;28mself\u001b[39m\u001b[38;5;241m.\u001b[39mbounds, projection\u001b[38;5;241m=\u001b[39m\u001b[38;5;124m\"\u001b[39m\u001b[38;5;124mEPSG:3857\u001b[39m\u001b[38;5;124m\"\u001b[39m)\n\u001b[1;32m    358\u001b[0m     \u001b[38;5;66;03m# Create GeoTIFF\u001b[39;00m\n",
      "\u001b[0;31mIndexError\u001b[0m: index 6 is out of bounds for axis 0 with size 6"
     ]
    }
   ],
   "source": [
    "animation.create_animated_tiles(folder_path = '../../datasets/processed/Tiles/', region_name = 'Tsaratanana', minZ = 10, maxZ=14, save_GeoTIFF=True)"
   ]
  },
  {
   "cell_type": "markdown",
   "metadata": {},
   "source": [
    "### Create animation"
   ]
  },
  {
   "cell_type": "code",
   "execution_count": 7,
   "metadata": {
    "tags": []
   },
   "outputs": [],
   "source": [
    "animation.create_movie_from_array(folder_path = '../../datasets/processed/Animations/', region_name = 'Tsaratanana', output_format='mp4')"
   ]
  },
  {
   "cell_type": "code",
   "execution_count": null,
   "metadata": {},
   "outputs": [],
   "source": []
  }
 ],
 "metadata": {
  "kernelspec": {
   "display_name": "Python 3",
   "language": "python",
   "name": "python3"
  },
  "language_info": {
   "codemirror_mode": {
    "name": "ipython",
    "version": 3
   },
   "file_extension": ".py",
   "mimetype": "text/x-python",
   "name": "python",
   "nbconvert_exporter": "python",
   "pygments_lexer": "ipython3",
   "version": "3.8.10"
  },
  "vscode": {
   "interpreter": {
    "hash": "97cc609b13305c559618ec78a438abc56230b9381f827f22d070313b9a1f3777"
   }
  }
 },
 "nbformat": 4,
 "nbformat_minor": 4
}
