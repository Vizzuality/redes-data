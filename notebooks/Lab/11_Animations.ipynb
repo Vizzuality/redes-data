{
 "cells": [
  {
   "cell_type": "markdown",
   "metadata": {},
   "source": [
    "<img width=\"600\" height=\"200\" src=\"../../datasets/redes.png\">"
   ]
  },
  {
   "cell_type": "markdown",
   "metadata": {},
   "source": [
    "# Animations with Earth Engine\n",
    "## Purpose\n",
    "The purpose of this notebook is to create animations from Earth Engine datasets.\n",
    "\n",
    "## Setup\n",
    "### Library import"
   ]
  },
  {
   "cell_type": "code",
   "execution_count": 1,
   "metadata": {},
   "outputs": [],
   "source": [
    "import os\n",
    "from ipywidgets import interact\n",
    "import matplotlib.pyplot as plt\n",
    "\n",
    "from vizzDL import animations\n",
    "from vizzDL.models.CNN.super_resolution import srgan"
   ]
  },
  {
   "cell_type": "markdown",
   "metadata": {},
   "source": [
    "## **Create animation**\n",
    "**Create `animations` object**"
   ]
  },
  {
   "cell_type": "code",
   "execution_count": 2,
   "metadata": {},
   "outputs": [],
   "source": [
    "animation = animations.Animation()"
   ]
  },
  {
   "cell_type": "markdown",
   "metadata": {
    "tags": []
   },
   "source": [
    "**Select region**"
   ]
  },
  {
   "cell_type": "code",
   "execution_count": 3,
   "metadata": {},
   "outputs": [],
   "source": [
    "geometry = {'type': 'FeatureCollection',\n",
    " 'features': [{'type': 'Feature',\n",
    "   'properties': {},\n",
    "   'geometry': {'type': 'Polygon',\n",
    "    'coordinates': [[[-122.206748, 46.034209],\n",
    "      [-122.206748, 46.206846],\n",
    "      [-122.010182, 46.206846],\n",
    "      [-122.010182, 46.034209],\n",
    "      [-122.206748, 46.034209]]]}}]}"
   ]
  },
  {
   "cell_type": "code",
   "execution_count": 4,
   "metadata": {},
   "outputs": [
    {
     "data": {
      "application/vnd.jupyter.widget-view+json": {
       "model_id": "3531d31c30bf4d3cb318173d1a65d6db",
       "version_major": 2,
       "version_minor": 0
      },
      "text/plain": [
       "Map(center=[46.116, -122.1149], controls=(ZoomControl(options=['position', 'zoom_in_text', 'zoom_in_title', 'z…"
      ]
     },
     "metadata": {},
     "output_type": "display_data"
    }
   ],
   "source": [
    "animation.select_region(instrument='Landsat', geometry=geometry, lat=46.116, lon=-122.1149, zoom=11)"
   ]
  },
  {
   "cell_type": "markdown",
   "metadata": {},
   "source": [
    "### Time-lapse"
   ]
  },
  {
   "cell_type": "markdown",
   "metadata": {},
   "source": [
    "**Save images as `PNG`s**"
   ]
  },
  {
   "cell_type": "code",
   "execution_count": 28,
   "metadata": {},
   "outputs": [
    {
     "name": "stdout",
     "output_type": "stream",
     "text": [
      "Image number: 0\n",
      "Image number: 1\n",
      "Image number: 2\n",
      "Image number: 3\n",
      "Image number: 4\n",
      "Image number: 5\n",
      "Image number: 6\n",
      "Image number: 7\n",
      "Image number: 8\n",
      "Image number: 9\n",
      "Image number: 10\n",
      "Image number: 11\n",
      "Image number: 12\n",
      "Image number: 13\n",
      "Image number: 14\n",
      "Image number: 15\n",
      "Image number: 16\n",
      "Image number: 17\n",
      "Image number: 18\n",
      "Image number: 19\n",
      "Image number: 20\n",
      "Image number: 21\n",
      "Image number: 22\n",
      "Image number: 23\n",
      "Image number: 24\n"
     ]
    }
   ],
   "source": [
    "animation.save_frames_as_PGNs(folder_path = '../../datasets/processed/GeoTIFFs/', region_name = 'Saint_Helens', start_year=1995, stop_year=2019)"
   ]
  },
  {
   "cell_type": "markdown",
   "metadata": {},
   "source": [
    "**Create animation as a Numpy array**"
   ]
  },
  {
   "cell_type": "code",
   "execution_count": 7,
   "metadata": {},
   "outputs": [
    {
     "name": "stdout",
     "output_type": "stream",
     "text": [
      "Image number: 0\n",
      "Image number: 1\n",
      "Image number: 2\n",
      "Image number: 3\n",
      "Image number: 4\n",
      "Image number: 5\n",
      "Image number: 6\n",
      "Image number: 7\n",
      "Image number: 8\n",
      "Image number: 9\n",
      "Image number: 10\n",
      "Image number: 11\n",
      "Image number: 12\n",
      "Image number: 13\n",
      "Image number: 14\n",
      "Image number: 15\n",
      "Image number: 16\n",
      "Image number: 17\n",
      "Image number: 18\n",
      "Image number: 19\n",
      "Image number: 20\n",
      "Image number: 21\n",
      "Image number: 22\n",
      "Image number: 23\n",
      "Image number: 24\n"
     ]
    }
   ],
   "source": [
    "video = animation.video_as_array(start_year=1995, stop_year=2019)"
   ]
  },
  {
   "cell_type": "markdown",
   "metadata": {
    "tags": []
   },
   "source": [
    "### Prediction\n",
    "**Create model**"
   ]
  },
  {
   "cell_type": "code",
   "execution_count": 7,
   "metadata": {
    "tags": []
   },
   "outputs": [],
   "source": [
    "# Location of model weights\n",
    "weights_dir = '../../datasets/processed/Models/L8_S2_SR_x3/srgan_generator_L8_to_S2_x3'\n",
    "weights_file = lambda filename: os.path.join(weights_dir, filename)\n",
    "\n",
    "pre_generator = srgan.Generator(input_shape=(None, None, 3), scale=3).generator()\n",
    "pre_generator.load_weights(weights_file('model_weights.h5'))"
   ]
  },
  {
   "cell_type": "markdown",
   "metadata": {},
   "source": [
    "**predict**"
   ]
  },
  {
   "cell_type": "code",
   "execution_count": 8,
   "metadata": {
    "collapsed": true,
    "jupyter": {
     "outputs_hidden": true
    },
    "tags": []
   },
   "outputs": [
    {
     "ename": "ResourceExhaustedError",
     "evalue": "Graph execution error:\n\nDetected at node 'generator/up_sampling2d/resize/ResizeNearestNeighbor' defined at (most recent call last):\n    File \"/usr/lib/python3.8/runpy.py\", line 194, in _run_module_as_main\n      return _run_code(code, main_globals, None,\n    File \"/usr/lib/python3.8/runpy.py\", line 87, in _run_code\n      exec(code, run_globals)\n    File \"/usr/local/lib/python3.8/dist-packages/ipykernel_launcher.py\", line 16, in <module>\n      app.launch_new_instance()\n    File \"/usr/local/lib/python3.8/dist-packages/traitlets/config/application.py\", line 972, in launch_instance\n      app.start()\n    File \"/usr/local/lib/python3.8/dist-packages/ipykernel/kernelapp.py\", line 505, in start\n      self.io_loop.start()\n    File \"/usr/local/lib/python3.8/dist-packages/tornado/platform/asyncio.py\", line 199, in start\n      self.asyncio_loop.run_forever()\n    File \"/usr/lib/python3.8/asyncio/base_events.py\", line 570, in run_forever\n      self._run_once()\n    File \"/usr/lib/python3.8/asyncio/base_events.py\", line 1859, in _run_once\n      handle._run()\n    File \"/usr/lib/python3.8/asyncio/events.py\", line 81, in _run\n      self._context.run(self._callback, *self._args)\n    File \"/usr/local/lib/python3.8/dist-packages/tornado/ioloop.py\", line 688, in <lambda>\n      lambda f: self._run_callback(functools.partial(callback, future))\n    File \"/usr/local/lib/python3.8/dist-packages/tornado/ioloop.py\", line 741, in _run_callback\n      ret = callback()\n    File \"/usr/local/lib/python3.8/dist-packages/tornado/gen.py\", line 814, in inner\n      self.ctx_run(self.run)\n    File \"/usr/local/lib/python3.8/dist-packages/tornado/gen.py\", line 775, in run\n      yielded = self.gen.send(value)\n    File \"/usr/local/lib/python3.8/dist-packages/ipykernel/kernelbase.py\", line 365, in process_one\n      yield gen.maybe_future(dispatch(*args))\n    File \"/usr/local/lib/python3.8/dist-packages/tornado/gen.py\", line 234, in wrapper\n      yielded = ctx_run(next, result)\n    File \"/usr/local/lib/python3.8/dist-packages/ipykernel/kernelbase.py\", line 272, in dispatch_shell\n      yield gen.maybe_future(handler(stream, idents, msg))\n    File \"/usr/local/lib/python3.8/dist-packages/tornado/gen.py\", line 234, in wrapper\n      yielded = ctx_run(next, result)\n    File \"/usr/local/lib/python3.8/dist-packages/ipykernel/kernelbase.py\", line 540, in execute_request\n      self.do_execute(\n    File \"/usr/local/lib/python3.8/dist-packages/tornado/gen.py\", line 234, in wrapper\n      yielded = ctx_run(next, result)\n    File \"/usr/local/lib/python3.8/dist-packages/ipykernel/ipkernel.py\", line 294, in do_execute\n      res = shell.run_cell(code, store_history=store_history, silent=silent)\n    File \"/usr/local/lib/python3.8/dist-packages/ipykernel/zmqshell.py\", line 536, in run_cell\n      return super(ZMQInteractiveShell, self).run_cell(*args, **kwargs)\n    File \"/usr/local/lib/python3.8/dist-packages/IPython/core/interactiveshell.py\", line 2880, in run_cell\n      result = self._run_cell(\n    File \"/usr/local/lib/python3.8/dist-packages/IPython/core/interactiveshell.py\", line 2935, in _run_cell\n      return runner(coro)\n    File \"/usr/local/lib/python3.8/dist-packages/IPython/core/async_helpers.py\", line 129, in _pseudo_sync_runner\n      coro.send(None)\n    File \"/usr/local/lib/python3.8/dist-packages/IPython/core/interactiveshell.py\", line 3134, in run_cell_async\n      has_raised = await self.run_ast_nodes(code_ast.body, cell_name,\n    File \"/usr/local/lib/python3.8/dist-packages/IPython/core/interactiveshell.py\", line 3337, in run_ast_nodes\n      if await self.run_code(code, result, async_=asy):\n    File \"/usr/local/lib/python3.8/dist-packages/IPython/core/interactiveshell.py\", line 3397, in run_code\n      exec(code_obj, self.user_global_ns, self.user_ns)\n    File \"<ipython-input-8-693533a25bad>\", line 1, in <cell line: 1>\n      prediction = animation.predict(model = pre_generator, norm_range=[[0,1], [-1,1]])\n    File \"/tf/notebooks/Lab/vizzDL/animations.py\", line 297, in predict\n      self.prediction = model.predict(self.images[:1,:,:,:3])\n    File \"/usr/local/lib/python3.8/dist-packages/keras/utils/traceback_utils.py\", line 64, in error_handler\n      return fn(*args, **kwargs)\n    File \"/usr/local/lib/python3.8/dist-packages/keras/engine/training.py\", line 2033, in predict\n      tmp_batch_outputs = self.predict_function(iterator)\n    File \"/usr/local/lib/python3.8/dist-packages/keras/engine/training.py\", line 1845, in predict_function\n      return step_function(self, iterator)\n    File \"/usr/local/lib/python3.8/dist-packages/keras/engine/training.py\", line 1834, in step_function\n      outputs = model.distribute_strategy.run(run_step, args=(data,))\n    File \"/usr/local/lib/python3.8/dist-packages/keras/engine/training.py\", line 1823, in run_step\n      outputs = model.predict_step(data)\n    File \"/usr/local/lib/python3.8/dist-packages/keras/engine/training.py\", line 1791, in predict_step\n      return self(x, training=False)\n    File \"/usr/local/lib/python3.8/dist-packages/keras/utils/traceback_utils.py\", line 64, in error_handler\n      return fn(*args, **kwargs)\n    File \"/usr/local/lib/python3.8/dist-packages/keras/engine/training.py\", line 490, in __call__\n      return super().__call__(*args, **kwargs)\n    File \"/usr/local/lib/python3.8/dist-packages/keras/utils/traceback_utils.py\", line 64, in error_handler\n      return fn(*args, **kwargs)\n    File \"/usr/local/lib/python3.8/dist-packages/keras/engine/base_layer.py\", line 1014, in __call__\n      outputs = call_fn(inputs, *args, **kwargs)\n    File \"/usr/local/lib/python3.8/dist-packages/keras/utils/traceback_utils.py\", line 92, in error_handler\n      return fn(*args, **kwargs)\n    File \"/usr/local/lib/python3.8/dist-packages/keras/engine/functional.py\", line 458, in call\n      return self._run_internal_graph(\n    File \"/usr/local/lib/python3.8/dist-packages/keras/engine/functional.py\", line 596, in _run_internal_graph\n      outputs = node.layer(*args, **kwargs)\n    File \"/usr/local/lib/python3.8/dist-packages/keras/utils/traceback_utils.py\", line 64, in error_handler\n      return fn(*args, **kwargs)\n    File \"/usr/local/lib/python3.8/dist-packages/keras/engine/base_layer.py\", line 1014, in __call__\n      outputs = call_fn(inputs, *args, **kwargs)\n    File \"/usr/local/lib/python3.8/dist-packages/keras/utils/traceback_utils.py\", line 92, in error_handler\n      return fn(*args, **kwargs)\n    File \"/usr/local/lib/python3.8/dist-packages/keras/layers/reshaping/up_sampling2d.py\", line 129, in call\n      return backend.resize_images(\n    File \"/usr/local/lib/python3.8/dist-packages/keras/backend.py\", line 3432, in resize_images\n      x = tf.image.resize(x, new_shape, method=interpolations[interpolation])\nNode: 'generator/up_sampling2d/resize/ResizeNearestNeighbor'\nOOM when allocating tensor with shape[1,2316,2823,256] and type float on /job:localhost/replica:0/task:0/device:GPU:0 by allocator GPU_0_bfc\n\t [[{{node generator/up_sampling2d/resize/ResizeNearestNeighbor}}]]\nHint: If you want to see a list of allocated tensors when OOM happens, add report_tensor_allocations_upon_oom to RunOptions for current allocation info. This isn't available when running in Eager mode.\n [Op:__inference_predict_function_3458]",
     "output_type": "error",
     "traceback": [
      "\u001b[0;31m---------------------------------------------------------------------------\u001b[0m",
      "\u001b[0;31mResourceExhaustedError\u001b[0m                    Traceback (most recent call last)",
      "Input \u001b[0;32mIn [8]\u001b[0m, in \u001b[0;36m<cell line: 1>\u001b[0;34m()\u001b[0m\n\u001b[0;32m----> 1\u001b[0m prediction \u001b[38;5;241m=\u001b[39m \u001b[43manimation\u001b[49m\u001b[38;5;241;43m.\u001b[39;49m\u001b[43mpredict\u001b[49m\u001b[43m(\u001b[49m\u001b[43mmodel\u001b[49m\u001b[43m \u001b[49m\u001b[38;5;241;43m=\u001b[39;49m\u001b[43m \u001b[49m\u001b[43mpre_generator\u001b[49m\u001b[43m,\u001b[49m\u001b[43m \u001b[49m\u001b[43mnorm_range\u001b[49m\u001b[38;5;241;43m=\u001b[39;49m\u001b[43m[\u001b[49m\u001b[43m[\u001b[49m\u001b[38;5;241;43m0\u001b[39;49m\u001b[43m,\u001b[49m\u001b[38;5;241;43m1\u001b[39;49m\u001b[43m]\u001b[49m\u001b[43m,\u001b[49m\u001b[43m \u001b[49m\u001b[43m[\u001b[49m\u001b[38;5;241;43m-\u001b[39;49m\u001b[38;5;241;43m1\u001b[39;49m\u001b[43m,\u001b[49m\u001b[38;5;241;43m1\u001b[39;49m\u001b[43m]\u001b[49m\u001b[43m]\u001b[49m\u001b[43m)\u001b[49m\n",
      "File \u001b[0;32m/tf/notebooks/Lab/vizzDL/animations.py:297\u001b[0m, in \u001b[0;36mAnimation.predict\u001b[0;34m(self, model, norm_range)\u001b[0m\n\u001b[1;32m    295\u001b[0m \u001b[38;5;28;01mfor\u001b[39;00m n \u001b[38;5;129;01min\u001b[39;00m \u001b[38;5;28mrange\u001b[39m(\u001b[38;5;28mself\u001b[39m\u001b[38;5;241m.\u001b[39mimages\u001b[38;5;241m.\u001b[39mshape[\u001b[38;5;241m0\u001b[39m]):\n\u001b[1;32m    296\u001b[0m     \u001b[38;5;28;01mif\u001b[39;00m n \u001b[38;5;241m==\u001b[39m \u001b[38;5;241m0\u001b[39m:\n\u001b[0;32m--> 297\u001b[0m         \u001b[38;5;28mself\u001b[39m\u001b[38;5;241m.\u001b[39mprediction \u001b[38;5;241m=\u001b[39m \u001b[43mmodel\u001b[49m\u001b[38;5;241;43m.\u001b[39;49m\u001b[43mpredict\u001b[49m\u001b[43m(\u001b[49m\u001b[38;5;28;43mself\u001b[39;49m\u001b[38;5;241;43m.\u001b[39;49m\u001b[43mimages\u001b[49m\u001b[43m[\u001b[49m\u001b[43m:\u001b[49m\u001b[38;5;241;43m1\u001b[39;49m\u001b[43m,\u001b[49m\u001b[43m:\u001b[49m\u001b[43m,\u001b[49m\u001b[43m:\u001b[49m\u001b[43m,\u001b[49m\u001b[43m:\u001b[49m\u001b[38;5;241;43m3\u001b[39;49m\u001b[43m]\u001b[49m\u001b[43m)\u001b[49m\n\u001b[1;32m    298\u001b[0m     \u001b[38;5;28;01melse\u001b[39;00m:\n\u001b[1;32m    299\u001b[0m         \u001b[38;5;28mself\u001b[39m\u001b[38;5;241m.\u001b[39mprediction \u001b[38;5;241m=\u001b[39m np\u001b[38;5;241m.\u001b[39mconcatenate((\u001b[38;5;28mself\u001b[39m\u001b[38;5;241m.\u001b[39mprediction, model\u001b[38;5;241m.\u001b[39mpredict(\u001b[38;5;28mself\u001b[39m\u001b[38;5;241m.\u001b[39mimages[(n\u001b[38;5;241m-\u001b[39m\u001b[38;5;241m1\u001b[39m):n,:,:,:\u001b[38;5;241m3\u001b[39m])), axis\u001b[38;5;241m=\u001b[39m\u001b[38;5;241m0\u001b[39m)\n",
      "File \u001b[0;32m/usr/local/lib/python3.8/dist-packages/keras/utils/traceback_utils.py:67\u001b[0m, in \u001b[0;36mfilter_traceback.<locals>.error_handler\u001b[0;34m(*args, **kwargs)\u001b[0m\n\u001b[1;32m     65\u001b[0m \u001b[38;5;28;01mexcept\u001b[39;00m \u001b[38;5;167;01mException\u001b[39;00m \u001b[38;5;28;01mas\u001b[39;00m e:  \u001b[38;5;66;03m# pylint: disable=broad-except\u001b[39;00m\n\u001b[1;32m     66\u001b[0m   filtered_tb \u001b[38;5;241m=\u001b[39m _process_traceback_frames(e\u001b[38;5;241m.\u001b[39m__traceback__)\n\u001b[0;32m---> 67\u001b[0m   \u001b[38;5;28;01mraise\u001b[39;00m e\u001b[38;5;241m.\u001b[39mwith_traceback(filtered_tb) \u001b[38;5;28;01mfrom\u001b[39;00m \u001b[38;5;28mNone\u001b[39m\n\u001b[1;32m     68\u001b[0m \u001b[38;5;28;01mfinally\u001b[39;00m:\n\u001b[1;32m     69\u001b[0m   \u001b[38;5;28;01mdel\u001b[39;00m filtered_tb\n",
      "File \u001b[0;32m/usr/local/lib/python3.8/dist-packages/tensorflow/python/eager/execute.py:54\u001b[0m, in \u001b[0;36mquick_execute\u001b[0;34m(op_name, num_outputs, inputs, attrs, ctx, name)\u001b[0m\n\u001b[1;32m     52\u001b[0m \u001b[38;5;28;01mtry\u001b[39;00m:\n\u001b[1;32m     53\u001b[0m   ctx\u001b[38;5;241m.\u001b[39mensure_initialized()\n\u001b[0;32m---> 54\u001b[0m   tensors \u001b[38;5;241m=\u001b[39m pywrap_tfe\u001b[38;5;241m.\u001b[39mTFE_Py_Execute(ctx\u001b[38;5;241m.\u001b[39m_handle, device_name, op_name,\n\u001b[1;32m     55\u001b[0m                                       inputs, attrs, num_outputs)\n\u001b[1;32m     56\u001b[0m \u001b[38;5;28;01mexcept\u001b[39;00m core\u001b[38;5;241m.\u001b[39m_NotOkStatusException \u001b[38;5;28;01mas\u001b[39;00m e:\n\u001b[1;32m     57\u001b[0m   \u001b[38;5;28;01mif\u001b[39;00m name \u001b[38;5;129;01mis\u001b[39;00m \u001b[38;5;129;01mnot\u001b[39;00m \u001b[38;5;28;01mNone\u001b[39;00m:\n",
      "\u001b[0;31mResourceExhaustedError\u001b[0m: Graph execution error:\n\nDetected at node 'generator/up_sampling2d/resize/ResizeNearestNeighbor' defined at (most recent call last):\n    File \"/usr/lib/python3.8/runpy.py\", line 194, in _run_module_as_main\n      return _run_code(code, main_globals, None,\n    File \"/usr/lib/python3.8/runpy.py\", line 87, in _run_code\n      exec(code, run_globals)\n    File \"/usr/local/lib/python3.8/dist-packages/ipykernel_launcher.py\", line 16, in <module>\n      app.launch_new_instance()\n    File \"/usr/local/lib/python3.8/dist-packages/traitlets/config/application.py\", line 972, in launch_instance\n      app.start()\n    File \"/usr/local/lib/python3.8/dist-packages/ipykernel/kernelapp.py\", line 505, in start\n      self.io_loop.start()\n    File \"/usr/local/lib/python3.8/dist-packages/tornado/platform/asyncio.py\", line 199, in start\n      self.asyncio_loop.run_forever()\n    File \"/usr/lib/python3.8/asyncio/base_events.py\", line 570, in run_forever\n      self._run_once()\n    File \"/usr/lib/python3.8/asyncio/base_events.py\", line 1859, in _run_once\n      handle._run()\n    File \"/usr/lib/python3.8/asyncio/events.py\", line 81, in _run\n      self._context.run(self._callback, *self._args)\n    File \"/usr/local/lib/python3.8/dist-packages/tornado/ioloop.py\", line 688, in <lambda>\n      lambda f: self._run_callback(functools.partial(callback, future))\n    File \"/usr/local/lib/python3.8/dist-packages/tornado/ioloop.py\", line 741, in _run_callback\n      ret = callback()\n    File \"/usr/local/lib/python3.8/dist-packages/tornado/gen.py\", line 814, in inner\n      self.ctx_run(self.run)\n    File \"/usr/local/lib/python3.8/dist-packages/tornado/gen.py\", line 775, in run\n      yielded = self.gen.send(value)\n    File \"/usr/local/lib/python3.8/dist-packages/ipykernel/kernelbase.py\", line 365, in process_one\n      yield gen.maybe_future(dispatch(*args))\n    File \"/usr/local/lib/python3.8/dist-packages/tornado/gen.py\", line 234, in wrapper\n      yielded = ctx_run(next, result)\n    File \"/usr/local/lib/python3.8/dist-packages/ipykernel/kernelbase.py\", line 272, in dispatch_shell\n      yield gen.maybe_future(handler(stream, idents, msg))\n    File \"/usr/local/lib/python3.8/dist-packages/tornado/gen.py\", line 234, in wrapper\n      yielded = ctx_run(next, result)\n    File \"/usr/local/lib/python3.8/dist-packages/ipykernel/kernelbase.py\", line 540, in execute_request\n      self.do_execute(\n    File \"/usr/local/lib/python3.8/dist-packages/tornado/gen.py\", line 234, in wrapper\n      yielded = ctx_run(next, result)\n    File \"/usr/local/lib/python3.8/dist-packages/ipykernel/ipkernel.py\", line 294, in do_execute\n      res = shell.run_cell(code, store_history=store_history, silent=silent)\n    File \"/usr/local/lib/python3.8/dist-packages/ipykernel/zmqshell.py\", line 536, in run_cell\n      return super(ZMQInteractiveShell, self).run_cell(*args, **kwargs)\n    File \"/usr/local/lib/python3.8/dist-packages/IPython/core/interactiveshell.py\", line 2880, in run_cell\n      result = self._run_cell(\n    File \"/usr/local/lib/python3.8/dist-packages/IPython/core/interactiveshell.py\", line 2935, in _run_cell\n      return runner(coro)\n    File \"/usr/local/lib/python3.8/dist-packages/IPython/core/async_helpers.py\", line 129, in _pseudo_sync_runner\n      coro.send(None)\n    File \"/usr/local/lib/python3.8/dist-packages/IPython/core/interactiveshell.py\", line 3134, in run_cell_async\n      has_raised = await self.run_ast_nodes(code_ast.body, cell_name,\n    File \"/usr/local/lib/python3.8/dist-packages/IPython/core/interactiveshell.py\", line 3337, in run_ast_nodes\n      if await self.run_code(code, result, async_=asy):\n    File \"/usr/local/lib/python3.8/dist-packages/IPython/core/interactiveshell.py\", line 3397, in run_code\n      exec(code_obj, self.user_global_ns, self.user_ns)\n    File \"<ipython-input-8-693533a25bad>\", line 1, in <cell line: 1>\n      prediction = animation.predict(model = pre_generator, norm_range=[[0,1], [-1,1]])\n    File \"/tf/notebooks/Lab/vizzDL/animations.py\", line 297, in predict\n      self.prediction = model.predict(self.images[:1,:,:,:3])\n    File \"/usr/local/lib/python3.8/dist-packages/keras/utils/traceback_utils.py\", line 64, in error_handler\n      return fn(*args, **kwargs)\n    File \"/usr/local/lib/python3.8/dist-packages/keras/engine/training.py\", line 2033, in predict\n      tmp_batch_outputs = self.predict_function(iterator)\n    File \"/usr/local/lib/python3.8/dist-packages/keras/engine/training.py\", line 1845, in predict_function\n      return step_function(self, iterator)\n    File \"/usr/local/lib/python3.8/dist-packages/keras/engine/training.py\", line 1834, in step_function\n      outputs = model.distribute_strategy.run(run_step, args=(data,))\n    File \"/usr/local/lib/python3.8/dist-packages/keras/engine/training.py\", line 1823, in run_step\n      outputs = model.predict_step(data)\n    File \"/usr/local/lib/python3.8/dist-packages/keras/engine/training.py\", line 1791, in predict_step\n      return self(x, training=False)\n    File \"/usr/local/lib/python3.8/dist-packages/keras/utils/traceback_utils.py\", line 64, in error_handler\n      return fn(*args, **kwargs)\n    File \"/usr/local/lib/python3.8/dist-packages/keras/engine/training.py\", line 490, in __call__\n      return super().__call__(*args, **kwargs)\n    File \"/usr/local/lib/python3.8/dist-packages/keras/utils/traceback_utils.py\", line 64, in error_handler\n      return fn(*args, **kwargs)\n    File \"/usr/local/lib/python3.8/dist-packages/keras/engine/base_layer.py\", line 1014, in __call__\n      outputs = call_fn(inputs, *args, **kwargs)\n    File \"/usr/local/lib/python3.8/dist-packages/keras/utils/traceback_utils.py\", line 92, in error_handler\n      return fn(*args, **kwargs)\n    File \"/usr/local/lib/python3.8/dist-packages/keras/engine/functional.py\", line 458, in call\n      return self._run_internal_graph(\n    File \"/usr/local/lib/python3.8/dist-packages/keras/engine/functional.py\", line 596, in _run_internal_graph\n      outputs = node.layer(*args, **kwargs)\n    File \"/usr/local/lib/python3.8/dist-packages/keras/utils/traceback_utils.py\", line 64, in error_handler\n      return fn(*args, **kwargs)\n    File \"/usr/local/lib/python3.8/dist-packages/keras/engine/base_layer.py\", line 1014, in __call__\n      outputs = call_fn(inputs, *args, **kwargs)\n    File \"/usr/local/lib/python3.8/dist-packages/keras/utils/traceback_utils.py\", line 92, in error_handler\n      return fn(*args, **kwargs)\n    File \"/usr/local/lib/python3.8/dist-packages/keras/layers/reshaping/up_sampling2d.py\", line 129, in call\n      return backend.resize_images(\n    File \"/usr/local/lib/python3.8/dist-packages/keras/backend.py\", line 3432, in resize_images\n      x = tf.image.resize(x, new_shape, method=interpolations[interpolation])\nNode: 'generator/up_sampling2d/resize/ResizeNearestNeighbor'\nOOM when allocating tensor with shape[1,2316,2823,256] and type float on /job:localhost/replica:0/task:0/device:GPU:0 by allocator GPU_0_bfc\n\t [[{{node generator/up_sampling2d/resize/ResizeNearestNeighbor}}]]\nHint: If you want to see a list of allocated tensors when OOM happens, add report_tensor_allocations_upon_oom to RunOptions for current allocation info. This isn't available when running in Eager mode.\n [Op:__inference_predict_function_3458]"
     ]
    }
   ],
   "source": [
    "prediction = animation.predict(model = pre_generator, norm_range=[[0,1], [-1,1]])"
   ]
  },
  {
   "cell_type": "code",
   "execution_count": 9,
   "metadata": {},
   "outputs": [
    {
     "data": {
      "application/vnd.jupyter.widget-view+json": {
       "model_id": "53adab5e36a44efcab97ede973c4fae4",
       "version_major": 2,
       "version_minor": 0
      },
      "text/plain": [
       "interactive(children=(IntSlider(value=0, description='frame', max=1), Output()), _dom_classes=('widget-interac…"
      ]
     },
     "metadata": {},
     "output_type": "display_data"
    }
   ],
   "source": [
    "@interact(frame=(0, video.shape[0]-1))\n",
    "def show_frame(frame=0):\n",
    "    fig, ax = plt.subplots(1, 2, figsize=(20,20))\n",
    "\n",
    "    ax[0].imshow(video[frame,:,:,:])\n",
    "    ax[0].set_title('LR')\n",
    "\n",
    "    ax[1].imshow(prediction[frame,:,:,:])\n",
    "    ax[1].set_title('SR (PRE)')"
   ]
  },
  {
   "cell_type": "markdown",
   "metadata": {},
   "source": [
    "### Create tiles\n",
    "**Create tiles**"
   ]
  },
  {
   "cell_type": "code",
   "execution_count": 8,
   "metadata": {},
   "outputs": [
    {
     "name": "stdout",
     "output_type": "stream",
     "text": [
      "Landsat\n",
      "Create tiles per frame:\n",
      "  year #1995\n",
      "Generating Base Tiles:\n",
      "0...10...20...30...40...50...60...70...80...90...100\n",
      "Generating Overview Tiles:\n",
      "0...10...20...30...40...50...60...70...80...90...100\n",
      "  year #1996\n",
      "Generating Base Tiles:\n",
      "0...10...20...30...40...50...60...70...80...90...100\n",
      "Generating Overview Tiles:\n",
      "0...10...20...30...40...50...60...70...80...90...100\n",
      "  year #1997\n",
      "Generating Base Tiles:\n",
      "0...10...20...30...40...50...60...70...80...90...100\n",
      "Generating Overview Tiles:\n",
      "0...10...20...30...40...50...60...70...80...90...100\n",
      "  year #1998\n",
      "Generating Base Tiles:\n",
      "0...10...20...30...40...50...60...70...80...90...100\n",
      "Generating Overview Tiles:\n",
      "0...10...20...30...40...50...60...70...80...90...100\n",
      "  year #1999\n",
      "Generating Base Tiles:\n",
      "0...10...20...30...40...50...60...70...80...90...100\n",
      "Generating Overview Tiles:\n",
      "0...10...20...30...40...50...60...70...80...90...100\n",
      "  year #2000\n",
      "Generating Base Tiles:\n",
      "0...10...20...30...40...50...60...70...80...90...100\n",
      "Generating Overview Tiles:\n",
      "0...10...20...30...40...50...60...70...80...90...100\n",
      "  year #2001\n",
      "Generating Base Tiles:\n",
      "0...10...20...30...40...50...60...70...80...90...100\n",
      "Generating Overview Tiles:\n",
      "0...10...20...30...40...50...60...70...80...90...100\n",
      "  year #2002\n",
      "Generating Base Tiles:\n",
      "0...10...20...30...40...50...60...70...80...90...100\n",
      "Generating Overview Tiles:\n",
      "0...10...20...30...40...50...60...70...80...90...100\n",
      "  year #2003\n",
      "Generating Base Tiles:\n",
      "0...10...20...30...40...50...60...70...80...90...100\n",
      "Generating Overview Tiles:\n",
      "0...10...20...30...40...50...60...70...80...90...100\n",
      "  year #2004\n",
      "Generating Base Tiles:\n",
      "0...10...20...30...40...50...60...70...80...90...100\n",
      "Generating Overview Tiles:\n",
      "0...10...20...30...40...50...60...70...80...90...100\n",
      "  year #2005\n",
      "Generating Base Tiles:\n",
      "0...10...20...30...40...50...60...70...80...90...100\n",
      "Generating Overview Tiles:\n",
      "0...10...20...30...40...50...60...70...80...90...100\n",
      "  year #2006\n",
      "Generating Base Tiles:\n",
      "0...10...20...30...40...50...60...70...80...90...100\n",
      "Generating Overview Tiles:\n",
      "0...10...20...30...40...50...60...70...80...90...100\n",
      "  year #2007\n",
      "Generating Base Tiles:\n",
      "0...10...20...30...40...50...60...70...80...90...100\n",
      "Generating Overview Tiles:\n",
      "0...10...20...30...40...50...60...70...80...90...100\n",
      "  year #2008\n",
      "Generating Base Tiles:\n",
      "0...10...20...30...40...50...60...70...80...90...100\n",
      "Generating Overview Tiles:\n",
      "0...10...20...30...40...50...60...70...80...90...100\n",
      "  year #2009\n",
      "Generating Base Tiles:\n",
      "0...10...20...30...40...50...60...70...80...90...100\n",
      "Generating Overview Tiles:\n",
      "0...10...20...30...40...50...60...70...80...90...100\n",
      "  year #2010\n",
      "Generating Base Tiles:\n",
      "0...10...20...30...40...50...60...70...80...90...100\n",
      "Generating Overview Tiles:\n",
      "0...10...20...30...40...50...60...70...80...90...100\n",
      "  year #2011\n",
      "Generating Base Tiles:\n",
      "0...10...20...30...40...50...60...70...80...90...100\n",
      "Generating Overview Tiles:\n",
      "0...10...20...30...40...50...60...70...80...90...100\n",
      "  year #2012\n",
      "Generating Base Tiles:\n",
      "0...10...20...30...40...50...60...70...80...90...100\n",
      "Generating Overview Tiles:\n",
      "0...10...20...30...40...50...60...70...80...90...100\n",
      "  year #2013\n",
      "Generating Base Tiles:\n",
      "0...10...20...30...40...50...60...70...80...90...100\n",
      "Generating Overview Tiles:\n",
      "0...10...20...30...40...50...60...70...80...90...100\n",
      "  year #2014\n",
      "Generating Base Tiles:\n",
      "0...10...20...30...40...50...60...70...80...90...100\n",
      "Generating Overview Tiles:\n",
      "0...10...20...30...40...50...60...70...80...90...100\n",
      "  year #2015\n",
      "Generating Base Tiles:\n",
      "0...10...20...30...40...50...60...70...80...90...100\n",
      "Generating Overview Tiles:\n",
      "0...10...20...30...40...50...60...70...80...90...100\n",
      "  year #2016\n",
      "Generating Base Tiles:\n",
      "0...10...20...30...40...50...60...70...80...90...100\n",
      "Generating Overview Tiles:\n",
      "0...10...20...30...40...50...60...70...80...90...100\n",
      "  year #2017\n",
      "Generating Base Tiles:\n",
      "0...10...20...30...40...50...60...70...80...90...100\n",
      "Generating Overview Tiles:\n",
      "0...10...20...30...40...50...60...70...80...90...100\n",
      "  year #2018\n",
      "Generating Base Tiles:\n",
      "0...10...20...30...40...50...60...70...80...90...100\n",
      "Generating Overview Tiles:\n",
      "0...10...20...30...40...50...60...70...80...90...100\n",
      "  year #2019\n",
      "Generating Base Tiles:\n",
      "0...10....20...30..40...50...60...70...80...90...100\n",
      "Generating Overview Tiles:\n",
      "0...10...20...30...40...50...60...70...80...90...100\n",
      "Creating APNGs\n",
      "Uploading APNG files to GCS\n",
      "File ../../datasets/processed/Tiles/Saint_Helens/APNGs/Landsat/14/2638/5815.png uploaded to Redes/Tiles/Saint_Helens/APNGs/Landsat/14/2638/5815.png.\n",
      "File ../../datasets/processed/Tiles/Saint_Helens/APNGs/Landsat/14/2638/5816.png uploaded to Redes/Tiles/Saint_Helens/APNGs/Landsat/14/2638/5816.png.\n",
      "File ../../datasets/processed/Tiles/Saint_Helens/APNGs/Landsat/14/2638/5822.png uploaded to Redes/Tiles/Saint_Helens/APNGs/Landsat/14/2638/5822.png.\n",
      "File ../../datasets/processed/Tiles/Saint_Helens/APNGs/Landsat/14/2638/5819.png uploaded to Redes/Tiles/Saint_Helens/APNGs/Landsat/14/2638/5819.png.\n",
      "File ../../datasets/processed/Tiles/Saint_Helens/APNGs/Landsat/14/2638/5821.png uploaded to Redes/Tiles/Saint_Helens/APNGs/Landsat/14/2638/5821.png.\n",
      "File ../../datasets/processed/Tiles/Saint_Helens/APNGs/Landsat/14/2638/5817.png uploaded to Redes/Tiles/Saint_Helens/APNGs/Landsat/14/2638/5817.png.\n",
      "File ../../datasets/processed/Tiles/Saint_Helens/APNGs/Landsat/14/2638/5826.png uploaded to Redes/Tiles/Saint_Helens/APNGs/Landsat/14/2638/5826.png.\n",
      "File ../../datasets/processed/Tiles/Saint_Helens/APNGs/Landsat/14/2638/5825.png uploaded to Redes/Tiles/Saint_Helens/APNGs/Landsat/14/2638/5825.png.\n",
      "File ../../datasets/processed/Tiles/Saint_Helens/APNGs/Landsat/14/2638/5820.png uploaded to Redes/Tiles/Saint_Helens/APNGs/Landsat/14/2638/5820.png.\n",
      "File ../../datasets/processed/Tiles/Saint_Helens/APNGs/Landsat/14/2638/5818.png uploaded to Redes/Tiles/Saint_Helens/APNGs/Landsat/14/2638/5818.png.\n",
      "File ../../datasets/processed/Tiles/Saint_Helens/APNGs/Landsat/14/2638/5824.png uploaded to Redes/Tiles/Saint_Helens/APNGs/Landsat/14/2638/5824.png.\n",
      "File ../../datasets/processed/Tiles/Saint_Helens/APNGs/Landsat/14/2638/5823.png uploaded to Redes/Tiles/Saint_Helens/APNGs/Landsat/14/2638/5823.png.\n",
      "File ../../datasets/processed/Tiles/Saint_Helens/APNGs/Landsat/14/2635/5815.png uploaded to Redes/Tiles/Saint_Helens/APNGs/Landsat/14/2635/5815.png.\n",
      "File ../../datasets/processed/Tiles/Saint_Helens/APNGs/Landsat/14/2635/5816.png uploaded to Redes/Tiles/Saint_Helens/APNGs/Landsat/14/2635/5816.png.\n",
      "File ../../datasets/processed/Tiles/Saint_Helens/APNGs/Landsat/14/2635/5822.png uploaded to Redes/Tiles/Saint_Helens/APNGs/Landsat/14/2635/5822.png.\n",
      "File ../../datasets/processed/Tiles/Saint_Helens/APNGs/Landsat/14/2635/5819.png uploaded to Redes/Tiles/Saint_Helens/APNGs/Landsat/14/2635/5819.png.\n",
      "File ../../datasets/processed/Tiles/Saint_Helens/APNGs/Landsat/14/2635/5821.png uploaded to Redes/Tiles/Saint_Helens/APNGs/Landsat/14/2635/5821.png.\n",
      "File ../../datasets/processed/Tiles/Saint_Helens/APNGs/Landsat/14/2635/5817.png uploaded to Redes/Tiles/Saint_Helens/APNGs/Landsat/14/2635/5817.png.\n",
      "File ../../datasets/processed/Tiles/Saint_Helens/APNGs/Landsat/14/2635/5826.png uploaded to Redes/Tiles/Saint_Helens/APNGs/Landsat/14/2635/5826.png.\n",
      "File ../../datasets/processed/Tiles/Saint_Helens/APNGs/Landsat/14/2635/5825.png uploaded to Redes/Tiles/Saint_Helens/APNGs/Landsat/14/2635/5825.png.\n",
      "File ../../datasets/processed/Tiles/Saint_Helens/APNGs/Landsat/14/2635/5820.png uploaded to Redes/Tiles/Saint_Helens/APNGs/Landsat/14/2635/5820.png.\n",
      "File ../../datasets/processed/Tiles/Saint_Helens/APNGs/Landsat/14/2635/5818.png uploaded to Redes/Tiles/Saint_Helens/APNGs/Landsat/14/2635/5818.png.\n",
      "File ../../datasets/processed/Tiles/Saint_Helens/APNGs/Landsat/14/2635/5824.png uploaded to Redes/Tiles/Saint_Helens/APNGs/Landsat/14/2635/5824.png.\n",
      "File ../../datasets/processed/Tiles/Saint_Helens/APNGs/Landsat/14/2635/5823.png uploaded to Redes/Tiles/Saint_Helens/APNGs/Landsat/14/2635/5823.png.\n",
      "File ../../datasets/processed/Tiles/Saint_Helens/APNGs/Landsat/14/2631/5815.png uploaded to Redes/Tiles/Saint_Helens/APNGs/Landsat/14/2631/5815.png.\n",
      "File ../../datasets/processed/Tiles/Saint_Helens/APNGs/Landsat/14/2631/5816.png uploaded to Redes/Tiles/Saint_Helens/APNGs/Landsat/14/2631/5816.png.\n",
      "File ../../datasets/processed/Tiles/Saint_Helens/APNGs/Landsat/14/2631/5822.png uploaded to Redes/Tiles/Saint_Helens/APNGs/Landsat/14/2631/5822.png.\n",
      "File ../../datasets/processed/Tiles/Saint_Helens/APNGs/Landsat/14/2631/5819.png uploaded to Redes/Tiles/Saint_Helens/APNGs/Landsat/14/2631/5819.png.\n",
      "File ../../datasets/processed/Tiles/Saint_Helens/APNGs/Landsat/14/2631/5821.png uploaded to Redes/Tiles/Saint_Helens/APNGs/Landsat/14/2631/5821.png.\n",
      "File ../../datasets/processed/Tiles/Saint_Helens/APNGs/Landsat/14/2631/5817.png uploaded to Redes/Tiles/Saint_Helens/APNGs/Landsat/14/2631/5817.png.\n",
      "File ../../datasets/processed/Tiles/Saint_Helens/APNGs/Landsat/14/2631/5826.png uploaded to Redes/Tiles/Saint_Helens/APNGs/Landsat/14/2631/5826.png.\n",
      "File ../../datasets/processed/Tiles/Saint_Helens/APNGs/Landsat/14/2631/5825.png uploaded to Redes/Tiles/Saint_Helens/APNGs/Landsat/14/2631/5825.png.\n",
      "File ../../datasets/processed/Tiles/Saint_Helens/APNGs/Landsat/14/2631/5820.png uploaded to Redes/Tiles/Saint_Helens/APNGs/Landsat/14/2631/5820.png.\n",
      "File ../../datasets/processed/Tiles/Saint_Helens/APNGs/Landsat/14/2631/5818.png uploaded to Redes/Tiles/Saint_Helens/APNGs/Landsat/14/2631/5818.png.\n",
      "File ../../datasets/processed/Tiles/Saint_Helens/APNGs/Landsat/14/2631/5824.png uploaded to Redes/Tiles/Saint_Helens/APNGs/Landsat/14/2631/5824.png.\n",
      "File ../../datasets/processed/Tiles/Saint_Helens/APNGs/Landsat/14/2631/5823.png uploaded to Redes/Tiles/Saint_Helens/APNGs/Landsat/14/2631/5823.png.\n",
      "File ../../datasets/processed/Tiles/Saint_Helens/APNGs/Landsat/14/2637/5815.png uploaded to Redes/Tiles/Saint_Helens/APNGs/Landsat/14/2637/5815.png.\n",
      "File ../../datasets/processed/Tiles/Saint_Helens/APNGs/Landsat/14/2637/5816.png uploaded to Redes/Tiles/Saint_Helens/APNGs/Landsat/14/2637/5816.png.\n",
      "File ../../datasets/processed/Tiles/Saint_Helens/APNGs/Landsat/14/2637/5822.png uploaded to Redes/Tiles/Saint_Helens/APNGs/Landsat/14/2637/5822.png.\n",
      "File ../../datasets/processed/Tiles/Saint_Helens/APNGs/Landsat/14/2637/5819.png uploaded to Redes/Tiles/Saint_Helens/APNGs/Landsat/14/2637/5819.png.\n",
      "File ../../datasets/processed/Tiles/Saint_Helens/APNGs/Landsat/14/2637/5821.png uploaded to Redes/Tiles/Saint_Helens/APNGs/Landsat/14/2637/5821.png.\n",
      "File ../../datasets/processed/Tiles/Saint_Helens/APNGs/Landsat/14/2637/5817.png uploaded to Redes/Tiles/Saint_Helens/APNGs/Landsat/14/2637/5817.png.\n",
      "File ../../datasets/processed/Tiles/Saint_Helens/APNGs/Landsat/14/2637/5826.png uploaded to Redes/Tiles/Saint_Helens/APNGs/Landsat/14/2637/5826.png.\n",
      "File ../../datasets/processed/Tiles/Saint_Helens/APNGs/Landsat/14/2637/5825.png uploaded to Redes/Tiles/Saint_Helens/APNGs/Landsat/14/2637/5825.png.\n",
      "File ../../datasets/processed/Tiles/Saint_Helens/APNGs/Landsat/14/2637/5820.png uploaded to Redes/Tiles/Saint_Helens/APNGs/Landsat/14/2637/5820.png.\n",
      "File ../../datasets/processed/Tiles/Saint_Helens/APNGs/Landsat/14/2637/5818.png uploaded to Redes/Tiles/Saint_Helens/APNGs/Landsat/14/2637/5818.png.\n",
      "File ../../datasets/processed/Tiles/Saint_Helens/APNGs/Landsat/14/2637/5824.png uploaded to Redes/Tiles/Saint_Helens/APNGs/Landsat/14/2637/5824.png.\n",
      "File ../../datasets/processed/Tiles/Saint_Helens/APNGs/Landsat/14/2637/5823.png uploaded to Redes/Tiles/Saint_Helens/APNGs/Landsat/14/2637/5823.png.\n",
      "File ../../datasets/processed/Tiles/Saint_Helens/APNGs/Landsat/14/2632/5815.png uploaded to Redes/Tiles/Saint_Helens/APNGs/Landsat/14/2632/5815.png.\n",
      "File ../../datasets/processed/Tiles/Saint_Helens/APNGs/Landsat/14/2632/5816.png uploaded to Redes/Tiles/Saint_Helens/APNGs/Landsat/14/2632/5816.png.\n",
      "File ../../datasets/processed/Tiles/Saint_Helens/APNGs/Landsat/14/2632/5822.png uploaded to Redes/Tiles/Saint_Helens/APNGs/Landsat/14/2632/5822.png.\n",
      "File ../../datasets/processed/Tiles/Saint_Helens/APNGs/Landsat/14/2632/5819.png uploaded to Redes/Tiles/Saint_Helens/APNGs/Landsat/14/2632/5819.png.\n",
      "File ../../datasets/processed/Tiles/Saint_Helens/APNGs/Landsat/14/2632/5821.png uploaded to Redes/Tiles/Saint_Helens/APNGs/Landsat/14/2632/5821.png.\n",
      "File ../../datasets/processed/Tiles/Saint_Helens/APNGs/Landsat/14/2632/5817.png uploaded to Redes/Tiles/Saint_Helens/APNGs/Landsat/14/2632/5817.png.\n",
      "File ../../datasets/processed/Tiles/Saint_Helens/APNGs/Landsat/14/2632/5826.png uploaded to Redes/Tiles/Saint_Helens/APNGs/Landsat/14/2632/5826.png.\n",
      "File ../../datasets/processed/Tiles/Saint_Helens/APNGs/Landsat/14/2632/5825.png uploaded to Redes/Tiles/Saint_Helens/APNGs/Landsat/14/2632/5825.png.\n",
      "File ../../datasets/processed/Tiles/Saint_Helens/APNGs/Landsat/14/2632/5820.png uploaded to Redes/Tiles/Saint_Helens/APNGs/Landsat/14/2632/5820.png.\n",
      "File ../../datasets/processed/Tiles/Saint_Helens/APNGs/Landsat/14/2632/5818.png uploaded to Redes/Tiles/Saint_Helens/APNGs/Landsat/14/2632/5818.png.\n",
      "File ../../datasets/processed/Tiles/Saint_Helens/APNGs/Landsat/14/2632/5824.png uploaded to Redes/Tiles/Saint_Helens/APNGs/Landsat/14/2632/5824.png.\n",
      "File ../../datasets/processed/Tiles/Saint_Helens/APNGs/Landsat/14/2632/5823.png uploaded to Redes/Tiles/Saint_Helens/APNGs/Landsat/14/2632/5823.png.\n",
      "File ../../datasets/processed/Tiles/Saint_Helens/APNGs/Landsat/14/2630/5815.png uploaded to Redes/Tiles/Saint_Helens/APNGs/Landsat/14/2630/5815.png.\n",
      "File ../../datasets/processed/Tiles/Saint_Helens/APNGs/Landsat/14/2630/5816.png uploaded to Redes/Tiles/Saint_Helens/APNGs/Landsat/14/2630/5816.png.\n",
      "File ../../datasets/processed/Tiles/Saint_Helens/APNGs/Landsat/14/2630/5822.png uploaded to Redes/Tiles/Saint_Helens/APNGs/Landsat/14/2630/5822.png.\n",
      "File ../../datasets/processed/Tiles/Saint_Helens/APNGs/Landsat/14/2630/5819.png uploaded to Redes/Tiles/Saint_Helens/APNGs/Landsat/14/2630/5819.png.\n",
      "File ../../datasets/processed/Tiles/Saint_Helens/APNGs/Landsat/14/2630/5821.png uploaded to Redes/Tiles/Saint_Helens/APNGs/Landsat/14/2630/5821.png.\n",
      "File ../../datasets/processed/Tiles/Saint_Helens/APNGs/Landsat/14/2630/5817.png uploaded to Redes/Tiles/Saint_Helens/APNGs/Landsat/14/2630/5817.png.\n",
      "File ../../datasets/processed/Tiles/Saint_Helens/APNGs/Landsat/14/2630/5826.png uploaded to Redes/Tiles/Saint_Helens/APNGs/Landsat/14/2630/5826.png.\n",
      "File ../../datasets/processed/Tiles/Saint_Helens/APNGs/Landsat/14/2630/5825.png uploaded to Redes/Tiles/Saint_Helens/APNGs/Landsat/14/2630/5825.png.\n",
      "File ../../datasets/processed/Tiles/Saint_Helens/APNGs/Landsat/14/2630/5820.png uploaded to Redes/Tiles/Saint_Helens/APNGs/Landsat/14/2630/5820.png.\n",
      "File ../../datasets/processed/Tiles/Saint_Helens/APNGs/Landsat/14/2630/5818.png uploaded to Redes/Tiles/Saint_Helens/APNGs/Landsat/14/2630/5818.png.\n",
      "File ../../datasets/processed/Tiles/Saint_Helens/APNGs/Landsat/14/2630/5824.png uploaded to Redes/Tiles/Saint_Helens/APNGs/Landsat/14/2630/5824.png.\n",
      "File ../../datasets/processed/Tiles/Saint_Helens/APNGs/Landsat/14/2630/5823.png uploaded to Redes/Tiles/Saint_Helens/APNGs/Landsat/14/2630/5823.png.\n",
      "File ../../datasets/processed/Tiles/Saint_Helens/APNGs/Landsat/14/2636/5815.png uploaded to Redes/Tiles/Saint_Helens/APNGs/Landsat/14/2636/5815.png.\n",
      "File ../../datasets/processed/Tiles/Saint_Helens/APNGs/Landsat/14/2636/5816.png uploaded to Redes/Tiles/Saint_Helens/APNGs/Landsat/14/2636/5816.png.\n",
      "File ../../datasets/processed/Tiles/Saint_Helens/APNGs/Landsat/14/2636/5822.png uploaded to Redes/Tiles/Saint_Helens/APNGs/Landsat/14/2636/5822.png.\n",
      "File ../../datasets/processed/Tiles/Saint_Helens/APNGs/Landsat/14/2636/5819.png uploaded to Redes/Tiles/Saint_Helens/APNGs/Landsat/14/2636/5819.png.\n",
      "File ../../datasets/processed/Tiles/Saint_Helens/APNGs/Landsat/14/2636/5821.png uploaded to Redes/Tiles/Saint_Helens/APNGs/Landsat/14/2636/5821.png.\n",
      "File ../../datasets/processed/Tiles/Saint_Helens/APNGs/Landsat/14/2636/5817.png uploaded to Redes/Tiles/Saint_Helens/APNGs/Landsat/14/2636/5817.png.\n",
      "File ../../datasets/processed/Tiles/Saint_Helens/APNGs/Landsat/14/2636/5826.png uploaded to Redes/Tiles/Saint_Helens/APNGs/Landsat/14/2636/5826.png.\n",
      "File ../../datasets/processed/Tiles/Saint_Helens/APNGs/Landsat/14/2636/5825.png uploaded to Redes/Tiles/Saint_Helens/APNGs/Landsat/14/2636/5825.png.\n",
      "File ../../datasets/processed/Tiles/Saint_Helens/APNGs/Landsat/14/2636/5820.png uploaded to Redes/Tiles/Saint_Helens/APNGs/Landsat/14/2636/5820.png.\n",
      "File ../../datasets/processed/Tiles/Saint_Helens/APNGs/Landsat/14/2636/5818.png uploaded to Redes/Tiles/Saint_Helens/APNGs/Landsat/14/2636/5818.png.\n",
      "File ../../datasets/processed/Tiles/Saint_Helens/APNGs/Landsat/14/2636/5824.png uploaded to Redes/Tiles/Saint_Helens/APNGs/Landsat/14/2636/5824.png.\n",
      "File ../../datasets/processed/Tiles/Saint_Helens/APNGs/Landsat/14/2636/5823.png uploaded to Redes/Tiles/Saint_Helens/APNGs/Landsat/14/2636/5823.png.\n",
      "File ../../datasets/processed/Tiles/Saint_Helens/APNGs/Landsat/14/2633/5815.png uploaded to Redes/Tiles/Saint_Helens/APNGs/Landsat/14/2633/5815.png.\n",
      "File ../../datasets/processed/Tiles/Saint_Helens/APNGs/Landsat/14/2633/5816.png uploaded to Redes/Tiles/Saint_Helens/APNGs/Landsat/14/2633/5816.png.\n",
      "File ../../datasets/processed/Tiles/Saint_Helens/APNGs/Landsat/14/2633/5822.png uploaded to Redes/Tiles/Saint_Helens/APNGs/Landsat/14/2633/5822.png.\n",
      "File ../../datasets/processed/Tiles/Saint_Helens/APNGs/Landsat/14/2633/5819.png uploaded to Redes/Tiles/Saint_Helens/APNGs/Landsat/14/2633/5819.png.\n",
      "File ../../datasets/processed/Tiles/Saint_Helens/APNGs/Landsat/14/2633/5821.png uploaded to Redes/Tiles/Saint_Helens/APNGs/Landsat/14/2633/5821.png.\n",
      "File ../../datasets/processed/Tiles/Saint_Helens/APNGs/Landsat/14/2633/5817.png uploaded to Redes/Tiles/Saint_Helens/APNGs/Landsat/14/2633/5817.png.\n",
      "File ../../datasets/processed/Tiles/Saint_Helens/APNGs/Landsat/14/2633/5826.png uploaded to Redes/Tiles/Saint_Helens/APNGs/Landsat/14/2633/5826.png.\n",
      "File ../../datasets/processed/Tiles/Saint_Helens/APNGs/Landsat/14/2633/5825.png uploaded to Redes/Tiles/Saint_Helens/APNGs/Landsat/14/2633/5825.png.\n",
      "File ../../datasets/processed/Tiles/Saint_Helens/APNGs/Landsat/14/2633/5820.png uploaded to Redes/Tiles/Saint_Helens/APNGs/Landsat/14/2633/5820.png.\n",
      "File ../../datasets/processed/Tiles/Saint_Helens/APNGs/Landsat/14/2633/5818.png uploaded to Redes/Tiles/Saint_Helens/APNGs/Landsat/14/2633/5818.png.\n",
      "File ../../datasets/processed/Tiles/Saint_Helens/APNGs/Landsat/14/2633/5824.png uploaded to Redes/Tiles/Saint_Helens/APNGs/Landsat/14/2633/5824.png.\n",
      "File ../../datasets/processed/Tiles/Saint_Helens/APNGs/Landsat/14/2633/5823.png uploaded to Redes/Tiles/Saint_Helens/APNGs/Landsat/14/2633/5823.png.\n",
      "File ../../datasets/processed/Tiles/Saint_Helens/APNGs/Landsat/14/2639/5815.png uploaded to Redes/Tiles/Saint_Helens/APNGs/Landsat/14/2639/5815.png.\n",
      "File ../../datasets/processed/Tiles/Saint_Helens/APNGs/Landsat/14/2639/5816.png uploaded to Redes/Tiles/Saint_Helens/APNGs/Landsat/14/2639/5816.png.\n",
      "File ../../datasets/processed/Tiles/Saint_Helens/APNGs/Landsat/14/2639/5822.png uploaded to Redes/Tiles/Saint_Helens/APNGs/Landsat/14/2639/5822.png.\n",
      "File ../../datasets/processed/Tiles/Saint_Helens/APNGs/Landsat/14/2639/5819.png uploaded to Redes/Tiles/Saint_Helens/APNGs/Landsat/14/2639/5819.png.\n",
      "File ../../datasets/processed/Tiles/Saint_Helens/APNGs/Landsat/14/2639/5821.png uploaded to Redes/Tiles/Saint_Helens/APNGs/Landsat/14/2639/5821.png.\n",
      "File ../../datasets/processed/Tiles/Saint_Helens/APNGs/Landsat/14/2639/5817.png uploaded to Redes/Tiles/Saint_Helens/APNGs/Landsat/14/2639/5817.png.\n",
      "File ../../datasets/processed/Tiles/Saint_Helens/APNGs/Landsat/14/2639/5826.png uploaded to Redes/Tiles/Saint_Helens/APNGs/Landsat/14/2639/5826.png.\n",
      "File ../../datasets/processed/Tiles/Saint_Helens/APNGs/Landsat/14/2639/5825.png uploaded to Redes/Tiles/Saint_Helens/APNGs/Landsat/14/2639/5825.png.\n",
      "File ../../datasets/processed/Tiles/Saint_Helens/APNGs/Landsat/14/2639/5820.png uploaded to Redes/Tiles/Saint_Helens/APNGs/Landsat/14/2639/5820.png.\n",
      "File ../../datasets/processed/Tiles/Saint_Helens/APNGs/Landsat/14/2639/5818.png uploaded to Redes/Tiles/Saint_Helens/APNGs/Landsat/14/2639/5818.png.\n",
      "File ../../datasets/processed/Tiles/Saint_Helens/APNGs/Landsat/14/2639/5824.png uploaded to Redes/Tiles/Saint_Helens/APNGs/Landsat/14/2639/5824.png.\n",
      "File ../../datasets/processed/Tiles/Saint_Helens/APNGs/Landsat/14/2639/5823.png uploaded to Redes/Tiles/Saint_Helens/APNGs/Landsat/14/2639/5823.png.\n",
      "File ../../datasets/processed/Tiles/Saint_Helens/APNGs/Landsat/14/2634/5815.png uploaded to Redes/Tiles/Saint_Helens/APNGs/Landsat/14/2634/5815.png.\n",
      "File ../../datasets/processed/Tiles/Saint_Helens/APNGs/Landsat/14/2634/5816.png uploaded to Redes/Tiles/Saint_Helens/APNGs/Landsat/14/2634/5816.png.\n",
      "File ../../datasets/processed/Tiles/Saint_Helens/APNGs/Landsat/14/2634/5822.png uploaded to Redes/Tiles/Saint_Helens/APNGs/Landsat/14/2634/5822.png.\n",
      "File ../../datasets/processed/Tiles/Saint_Helens/APNGs/Landsat/14/2634/5819.png uploaded to Redes/Tiles/Saint_Helens/APNGs/Landsat/14/2634/5819.png.\n",
      "File ../../datasets/processed/Tiles/Saint_Helens/APNGs/Landsat/14/2634/5821.png uploaded to Redes/Tiles/Saint_Helens/APNGs/Landsat/14/2634/5821.png.\n",
      "File ../../datasets/processed/Tiles/Saint_Helens/APNGs/Landsat/14/2634/5817.png uploaded to Redes/Tiles/Saint_Helens/APNGs/Landsat/14/2634/5817.png.\n",
      "File ../../datasets/processed/Tiles/Saint_Helens/APNGs/Landsat/14/2634/5826.png uploaded to Redes/Tiles/Saint_Helens/APNGs/Landsat/14/2634/5826.png.\n",
      "File ../../datasets/processed/Tiles/Saint_Helens/APNGs/Landsat/14/2634/5825.png uploaded to Redes/Tiles/Saint_Helens/APNGs/Landsat/14/2634/5825.png.\n",
      "File ../../datasets/processed/Tiles/Saint_Helens/APNGs/Landsat/14/2634/5820.png uploaded to Redes/Tiles/Saint_Helens/APNGs/Landsat/14/2634/5820.png.\n",
      "File ../../datasets/processed/Tiles/Saint_Helens/APNGs/Landsat/14/2634/5818.png uploaded to Redes/Tiles/Saint_Helens/APNGs/Landsat/14/2634/5818.png.\n",
      "File ../../datasets/processed/Tiles/Saint_Helens/APNGs/Landsat/14/2634/5824.png uploaded to Redes/Tiles/Saint_Helens/APNGs/Landsat/14/2634/5824.png.\n",
      "File ../../datasets/processed/Tiles/Saint_Helens/APNGs/Landsat/14/2634/5823.png uploaded to Redes/Tiles/Saint_Helens/APNGs/Landsat/14/2634/5823.png.\n",
      "File ../../datasets/processed/Tiles/Saint_Helens/APNGs/Landsat/12/659/1454.png uploaded to Redes/Tiles/Saint_Helens/APNGs/Landsat/12/659/1454.png.\n",
      "File ../../datasets/processed/Tiles/Saint_Helens/APNGs/Landsat/12/659/1456.png uploaded to Redes/Tiles/Saint_Helens/APNGs/Landsat/12/659/1456.png.\n",
      "File ../../datasets/processed/Tiles/Saint_Helens/APNGs/Landsat/12/659/1455.png uploaded to Redes/Tiles/Saint_Helens/APNGs/Landsat/12/659/1455.png.\n",
      "File ../../datasets/processed/Tiles/Saint_Helens/APNGs/Landsat/12/659/1453.png uploaded to Redes/Tiles/Saint_Helens/APNGs/Landsat/12/659/1453.png.\n",
      "File ../../datasets/processed/Tiles/Saint_Helens/APNGs/Landsat/12/657/1454.png uploaded to Redes/Tiles/Saint_Helens/APNGs/Landsat/12/657/1454.png.\n",
      "File ../../datasets/processed/Tiles/Saint_Helens/APNGs/Landsat/12/657/1456.png uploaded to Redes/Tiles/Saint_Helens/APNGs/Landsat/12/657/1456.png.\n",
      "File ../../datasets/processed/Tiles/Saint_Helens/APNGs/Landsat/12/657/1455.png uploaded to Redes/Tiles/Saint_Helens/APNGs/Landsat/12/657/1455.png.\n",
      "File ../../datasets/processed/Tiles/Saint_Helens/APNGs/Landsat/12/657/1453.png uploaded to Redes/Tiles/Saint_Helens/APNGs/Landsat/12/657/1453.png.\n",
      "File ../../datasets/processed/Tiles/Saint_Helens/APNGs/Landsat/12/658/1454.png uploaded to Redes/Tiles/Saint_Helens/APNGs/Landsat/12/658/1454.png.\n",
      "File ../../datasets/processed/Tiles/Saint_Helens/APNGs/Landsat/12/658/1456.png uploaded to Redes/Tiles/Saint_Helens/APNGs/Landsat/12/658/1456.png.\n",
      "File ../../datasets/processed/Tiles/Saint_Helens/APNGs/Landsat/12/658/1455.png uploaded to Redes/Tiles/Saint_Helens/APNGs/Landsat/12/658/1455.png.\n",
      "File ../../datasets/processed/Tiles/Saint_Helens/APNGs/Landsat/12/658/1453.png uploaded to Redes/Tiles/Saint_Helens/APNGs/Landsat/12/658/1453.png.\n",
      "File ../../datasets/processed/Tiles/Saint_Helens/APNGs/Landsat/10/164/363.png uploaded to Redes/Tiles/Saint_Helens/APNGs/Landsat/10/164/363.png.\n",
      "File ../../datasets/processed/Tiles/Saint_Helens/APNGs/Landsat/10/164/364.png uploaded to Redes/Tiles/Saint_Helens/APNGs/Landsat/10/164/364.png.\n",
      "File ../../datasets/processed/Tiles/Saint_Helens/APNGs/Landsat/13/1316/2913.png uploaded to Redes/Tiles/Saint_Helens/APNGs/Landsat/13/1316/2913.png.\n",
      "File ../../datasets/processed/Tiles/Saint_Helens/APNGs/Landsat/13/1316/2910.png uploaded to Redes/Tiles/Saint_Helens/APNGs/Landsat/13/1316/2910.png.\n",
      "File ../../datasets/processed/Tiles/Saint_Helens/APNGs/Landsat/13/1316/2912.png uploaded to Redes/Tiles/Saint_Helens/APNGs/Landsat/13/1316/2912.png.\n",
      "File ../../datasets/processed/Tiles/Saint_Helens/APNGs/Landsat/13/1316/2908.png uploaded to Redes/Tiles/Saint_Helens/APNGs/Landsat/13/1316/2908.png.\n",
      "File ../../datasets/processed/Tiles/Saint_Helens/APNGs/Landsat/13/1316/2911.png uploaded to Redes/Tiles/Saint_Helens/APNGs/Landsat/13/1316/2911.png.\n",
      "File ../../datasets/processed/Tiles/Saint_Helens/APNGs/Landsat/13/1316/2907.png uploaded to Redes/Tiles/Saint_Helens/APNGs/Landsat/13/1316/2907.png.\n",
      "File ../../datasets/processed/Tiles/Saint_Helens/APNGs/Landsat/13/1316/2909.png uploaded to Redes/Tiles/Saint_Helens/APNGs/Landsat/13/1316/2909.png.\n",
      "File ../../datasets/processed/Tiles/Saint_Helens/APNGs/Landsat/13/1319/2913.png uploaded to Redes/Tiles/Saint_Helens/APNGs/Landsat/13/1319/2913.png.\n",
      "File ../../datasets/processed/Tiles/Saint_Helens/APNGs/Landsat/13/1319/2910.png uploaded to Redes/Tiles/Saint_Helens/APNGs/Landsat/13/1319/2910.png.\n",
      "File ../../datasets/processed/Tiles/Saint_Helens/APNGs/Landsat/13/1319/2912.png uploaded to Redes/Tiles/Saint_Helens/APNGs/Landsat/13/1319/2912.png.\n",
      "File ../../datasets/processed/Tiles/Saint_Helens/APNGs/Landsat/13/1319/2908.png uploaded to Redes/Tiles/Saint_Helens/APNGs/Landsat/13/1319/2908.png.\n",
      "File ../../datasets/processed/Tiles/Saint_Helens/APNGs/Landsat/13/1319/2911.png uploaded to Redes/Tiles/Saint_Helens/APNGs/Landsat/13/1319/2911.png.\n",
      "File ../../datasets/processed/Tiles/Saint_Helens/APNGs/Landsat/13/1319/2907.png uploaded to Redes/Tiles/Saint_Helens/APNGs/Landsat/13/1319/2907.png.\n",
      "File ../../datasets/processed/Tiles/Saint_Helens/APNGs/Landsat/13/1319/2909.png uploaded to Redes/Tiles/Saint_Helens/APNGs/Landsat/13/1319/2909.png.\n",
      "File ../../datasets/processed/Tiles/Saint_Helens/APNGs/Landsat/13/1315/2913.png uploaded to Redes/Tiles/Saint_Helens/APNGs/Landsat/13/1315/2913.png.\n",
      "File ../../datasets/processed/Tiles/Saint_Helens/APNGs/Landsat/13/1315/2910.png uploaded to Redes/Tiles/Saint_Helens/APNGs/Landsat/13/1315/2910.png.\n",
      "File ../../datasets/processed/Tiles/Saint_Helens/APNGs/Landsat/13/1315/2912.png uploaded to Redes/Tiles/Saint_Helens/APNGs/Landsat/13/1315/2912.png.\n",
      "File ../../datasets/processed/Tiles/Saint_Helens/APNGs/Landsat/13/1315/2908.png uploaded to Redes/Tiles/Saint_Helens/APNGs/Landsat/13/1315/2908.png.\n",
      "File ../../datasets/processed/Tiles/Saint_Helens/APNGs/Landsat/13/1315/2911.png uploaded to Redes/Tiles/Saint_Helens/APNGs/Landsat/13/1315/2911.png.\n",
      "File ../../datasets/processed/Tiles/Saint_Helens/APNGs/Landsat/13/1315/2907.png uploaded to Redes/Tiles/Saint_Helens/APNGs/Landsat/13/1315/2907.png.\n",
      "File ../../datasets/processed/Tiles/Saint_Helens/APNGs/Landsat/13/1315/2909.png uploaded to Redes/Tiles/Saint_Helens/APNGs/Landsat/13/1315/2909.png.\n",
      "File ../../datasets/processed/Tiles/Saint_Helens/APNGs/Landsat/13/1317/2913.png uploaded to Redes/Tiles/Saint_Helens/APNGs/Landsat/13/1317/2913.png.\n",
      "File ../../datasets/processed/Tiles/Saint_Helens/APNGs/Landsat/13/1317/2910.png uploaded to Redes/Tiles/Saint_Helens/APNGs/Landsat/13/1317/2910.png.\n",
      "File ../../datasets/processed/Tiles/Saint_Helens/APNGs/Landsat/13/1317/2912.png uploaded to Redes/Tiles/Saint_Helens/APNGs/Landsat/13/1317/2912.png.\n",
      "File ../../datasets/processed/Tiles/Saint_Helens/APNGs/Landsat/13/1317/2908.png uploaded to Redes/Tiles/Saint_Helens/APNGs/Landsat/13/1317/2908.png.\n",
      "File ../../datasets/processed/Tiles/Saint_Helens/APNGs/Landsat/13/1317/2911.png uploaded to Redes/Tiles/Saint_Helens/APNGs/Landsat/13/1317/2911.png.\n",
      "File ../../datasets/processed/Tiles/Saint_Helens/APNGs/Landsat/13/1317/2907.png uploaded to Redes/Tiles/Saint_Helens/APNGs/Landsat/13/1317/2907.png.\n",
      "File ../../datasets/processed/Tiles/Saint_Helens/APNGs/Landsat/13/1317/2909.png uploaded to Redes/Tiles/Saint_Helens/APNGs/Landsat/13/1317/2909.png.\n",
      "File ../../datasets/processed/Tiles/Saint_Helens/APNGs/Landsat/13/1318/2913.png uploaded to Redes/Tiles/Saint_Helens/APNGs/Landsat/13/1318/2913.png.\n",
      "File ../../datasets/processed/Tiles/Saint_Helens/APNGs/Landsat/13/1318/2910.png uploaded to Redes/Tiles/Saint_Helens/APNGs/Landsat/13/1318/2910.png.\n",
      "File ../../datasets/processed/Tiles/Saint_Helens/APNGs/Landsat/13/1318/2912.png uploaded to Redes/Tiles/Saint_Helens/APNGs/Landsat/13/1318/2912.png.\n",
      "File ../../datasets/processed/Tiles/Saint_Helens/APNGs/Landsat/13/1318/2908.png uploaded to Redes/Tiles/Saint_Helens/APNGs/Landsat/13/1318/2908.png.\n",
      "File ../../datasets/processed/Tiles/Saint_Helens/APNGs/Landsat/13/1318/2911.png uploaded to Redes/Tiles/Saint_Helens/APNGs/Landsat/13/1318/2911.png.\n",
      "File ../../datasets/processed/Tiles/Saint_Helens/APNGs/Landsat/13/1318/2907.png uploaded to Redes/Tiles/Saint_Helens/APNGs/Landsat/13/1318/2907.png.\n",
      "File ../../datasets/processed/Tiles/Saint_Helens/APNGs/Landsat/13/1318/2909.png uploaded to Redes/Tiles/Saint_Helens/APNGs/Landsat/13/1318/2909.png.\n",
      "File ../../datasets/processed/Tiles/Saint_Helens/APNGs/Landsat/11/329/727.png uploaded to Redes/Tiles/Saint_Helens/APNGs/Landsat/11/329/727.png.\n",
      "File ../../datasets/processed/Tiles/Saint_Helens/APNGs/Landsat/11/329/726.png uploaded to Redes/Tiles/Saint_Helens/APNGs/Landsat/11/329/726.png.\n",
      "File ../../datasets/processed/Tiles/Saint_Helens/APNGs/Landsat/11/329/728.png uploaded to Redes/Tiles/Saint_Helens/APNGs/Landsat/11/329/728.png.\n",
      "File ../../datasets/processed/Tiles/Saint_Helens/APNGs/Landsat/11/328/727.png uploaded to Redes/Tiles/Saint_Helens/APNGs/Landsat/11/328/727.png.\n",
      "File ../../datasets/processed/Tiles/Saint_Helens/APNGs/Landsat/11/328/726.png uploaded to Redes/Tiles/Saint_Helens/APNGs/Landsat/11/328/726.png.\n",
      "File ../../datasets/processed/Tiles/Saint_Helens/APNGs/Landsat/11/328/728.png uploaded to Redes/Tiles/Saint_Helens/APNGs/Landsat/11/328/728.png.\n"
     ]
    },
    {
     "data": {
      "application/vnd.jupyter.widget-view+json": {
       "model_id": "ea50e02996c645249ee64dbe0aa08d9b",
       "version_major": 2,
       "version_minor": 0
      },
      "text/plain": [
       "Map(center=[46.116, -122.1149], controls=(ZoomControl(options=['position', 'zoom_in_text', 'zoom_in_title', 'z…"
      ]
     },
     "metadata": {},
     "output_type": "display_data"
    }
   ],
   "source": [
    "animation.create_animated_tiles(folder_path = '../../datasets/processed/Tiles/', region_name = 'Saint_Helens', minZ = 10, maxZ=14, save_GeoTIFF=True)"
   ]
  },
  {
   "cell_type": "code",
   "execution_count": null,
   "metadata": {},
   "outputs": [],
   "source": []
  }
 ],
 "metadata": {
  "kernelspec": {
   "display_name": "Python 3",
   "language": "python",
   "name": "python3"
  },
  "language_info": {
   "codemirror_mode": {
    "name": "ipython",
    "version": 3
   },
   "file_extension": ".py",
   "mimetype": "text/x-python",
   "name": "python",
   "nbconvert_exporter": "python",
   "pygments_lexer": "ipython3",
   "version": "3.8.10"
  }
 },
 "nbformat": 4,
 "nbformat_minor": 4
}
